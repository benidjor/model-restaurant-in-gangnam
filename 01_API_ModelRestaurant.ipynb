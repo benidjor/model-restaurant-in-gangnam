{
 "cells": [
  {
   "cell_type": "markdown",
   "id": "dd8036fe",
   "metadata": {},
   "source": [
    "# 강남구 공모전"
   ]
  },
  {
   "cell_type": "markdown",
   "id": "e454c500",
   "metadata": {},
   "source": [
    "---"
   ]
  },
  {
   "cell_type": "markdown",
   "id": "1f8ef97d",
   "metadata": {},
   "source": [
    "## 데이터 로딩 (API)"
   ]
  },
  {
   "cell_type": "code",
   "execution_count": 1,
   "id": "a86c4730",
   "metadata": {
    "ExecuteTime": {
     "end_time": "2024-04-15T13:12:28.597426Z",
     "start_time": "2024-04-15T13:12:28.585271Z"
    }
   },
   "outputs": [],
   "source": [
    "import pandas as pd\n",
    "import numpy as np\n",
    "\n",
    "import pickle\n",
    "import requests\n",
    "import json\n",
    "from datetime import datetime"
   ]
  },
  {
   "cell_type": "code",
   "execution_count": 2,
   "id": "844afe92",
   "metadata": {
    "ExecuteTime": {
     "end_time": "2024-04-15T12:37:46.163169Z",
     "start_time": "2024-04-15T12:37:46.145527Z"
    }
   },
   "outputs": [],
   "source": [
    "with open('data/config.pkl', 'wb') as file:\n",
    "    key = '476542676c61727931313343714b7a74' #본인 키 신청 후 변수에 할당해서 쓰시면 됩니다\n",
    "    pickle.dump(key, file)"
   ]
  },
  {
   "cell_type": "code",
   "execution_count": 3,
   "id": "634d0555",
   "metadata": {
    "ExecuteTime": {
     "end_time": "2024-04-15T12:37:59.261546Z",
     "start_time": "2024-04-15T12:37:59.247696Z"
    }
   },
   "outputs": [],
   "source": [
    "with open('data/config.pkl', 'rb') as file:\n",
    "    key = pickle.load(file)"
   ]
  },
  {
   "cell_type": "markdown",
   "id": "71c78224",
   "metadata": {},
   "source": [
    "### 서울시 강남구 모범음식점 지정 현황"
   ]
  },
  {
   "cell_type": "markdown",
   "id": "3491aa83",
   "metadata": {},
   "source": [
    "https://data.seoul.go.kr/dataList/OA-11295/S/1/datasetView.do"
   ]
  },
  {
   "cell_type": "markdown",
   "id": "7534b6d1",
   "metadata": {},
   "source": [
    "|변수명|타입|변수설명|값설명|\n",
    "|:--:|:--:|:--:|:--:|\n",
    "|KEY|String(필수)|인증키|OpenAPI 에서 발급된 인증키|\n",
    "|TYPE|String(필수)|요청파일타입|xml : xml, xml파일 : xmlf, 엑셀파일 : xls, json파일 : json|\n",
    "|SERVICE|String(필수)|서비스명|GnModelRestaurantDesignate|\n",
    "|START_INDEX|INTEGER(필수)|요청시작위치|정수 입력 (페이징 시작번호 입니다 : 데이터 행 시작번호)|\n",
    "|END_INDEX|INTEGER(필수)|요청종료위치|정수 입력 (페이징 끝번호 입니다 : 데이터 행 끝번호)|\n",
    "|UPSO_NM|STRING(선택)|업소명|업소명|\n",
    "|MAIN_EDF|STRING(선택)|주된음식|주된음식|\n",
    "|ADMDNG_NM|STRING(선택)|행정동명|행정동명|"
   ]
  },
  {
   "cell_type": "code",
   "execution_count": 4,
   "id": "9dff8050",
   "metadata": {
    "ExecuteTime": {
     "end_time": "2024-04-15T13:08:54.595904Z",
     "start_time": "2024-04-15T13:08:51.974114Z"
    }
   },
   "outputs": [
    {
     "name": "stdout",
     "output_type": "stream",
     "text": [
      "정상 처리되었습니다 (데이터 크기: 316)\n"
     ]
    }
   ],
   "source": [
    "header = {\n",
    "    'KEY': key,\n",
    "    'TYPE': 'json',\n",
    "    'SERVICE': 'GnModelRestaurantDesignate',\n",
    "    'START_INDEX': 1,\n",
    "    'END_INDEX': 1000\n",
    "}\n",
    "\n",
    "url = 'http://openAPI.gangnam.go.kr:8088'\n",
    "for v in header.values():\n",
    "    url += '/' + str(v)\n",
    "\n",
    "response = requests.get(url)\n",
    "if response.status_code == 200:\n",
    "    response_json = json.loads(response.content)[header['SERVICE']]\n",
    "    print(response_json['RESULT']['MESSAGE'] + f''' (데이터 크기: {response_json['list_total_count']})''')\n",
    "else:\n",
    "    print(\"error\")"
   ]
  },
  {
   "cell_type": "code",
   "execution_count": 5,
   "id": "8ac6296d",
   "metadata": {
    "ExecuteTime": {
     "end_time": "2024-04-15T13:08:54.626948Z",
     "start_time": "2024-04-15T13:08:54.597314Z"
    },
    "scrolled": false
   },
   "outputs": [
    {
     "data": {
      "text/html": [
       "<div>\n",
       "<style scoped>\n",
       "    .dataframe tbody tr th:only-of-type {\n",
       "        vertical-align: middle;\n",
       "    }\n",
       "\n",
       "    .dataframe tbody tr th {\n",
       "        vertical-align: top;\n",
       "    }\n",
       "\n",
       "    .dataframe thead th {\n",
       "        text-align: right;\n",
       "    }\n",
       "</style>\n",
       "<table border=\"1\" class=\"dataframe\">\n",
       "  <thead>\n",
       "    <tr style=\"text-align: right;\">\n",
       "      <th></th>\n",
       "      <th>CGG_CODE</th>\n",
       "      <th>ASGN_YY</th>\n",
       "      <th>ASGN_SNO</th>\n",
       "      <th>APPL_YMD</th>\n",
       "      <th>ASGN_YMD</th>\n",
       "      <th>UPSO_NM</th>\n",
       "      <th>SITE_ADDR_RD</th>\n",
       "      <th>SITE_ADDR</th>\n",
       "      <th>PERM_NT_NO</th>\n",
       "      <th>SNT_UPTAE_NM</th>\n",
       "      <th>MAIN_EDF</th>\n",
       "      <th>TRDP_AREA</th>\n",
       "      <th>ADMDNG_NM</th>\n",
       "      <th>GRADE_FACIL_GBN</th>\n",
       "      <th>UPSO_SITE_TELNO</th>\n",
       "    </tr>\n",
       "  </thead>\n",
       "  <tbody>\n",
       "    <tr>\n",
       "      <th>0</th>\n",
       "      <td>3220000</td>\n",
       "      <td>2014</td>\n",
       "      <td>0160</td>\n",
       "      <td>20141006</td>\n",
       "      <td>20141006</td>\n",
       "      <td>이도곰탕</td>\n",
       "      <td>서울특별시 강남구 논현로94길 29-5, 지상1층,지상2층 (역삼동)</td>\n",
       "      <td>서울특별시 강남구 역삼동  671번지 17호</td>\n",
       "      <td>3220000-101-2001-24197</td>\n",
       "      <td>한식</td>\n",
       "      <td>곰탕</td>\n",
       "      <td>194.41</td>\n",
       "      <td>역삼1동</td>\n",
       "      <td>상수도전용</td>\n",
       "      <td>02 5010738</td>\n",
       "    </tr>\n",
       "    <tr>\n",
       "      <th>1</th>\n",
       "      <td>3220000</td>\n",
       "      <td>2021</td>\n",
       "      <td>139</td>\n",
       "      <td>20181001</td>\n",
       "      <td>20211116</td>\n",
       "      <td>솥내음 스타필드 코엑스몰점</td>\n",
       "      <td>서울특별시 강남구 영동대로 513, 코엑스 지하1층 O-107호 (삼성동)</td>\n",
       "      <td>서울특별시 강남구 삼성동  159번지  코엑스</td>\n",
       "      <td>3220000-101-2020-00643</td>\n",
       "      <td>한식</td>\n",
       "      <td>직화불백</td>\n",
       "      <td>74.56</td>\n",
       "      <td>삼성1동</td>\n",
       "      <td></td>\n",
       "      <td></td>\n",
       "    </tr>\n",
       "    <tr>\n",
       "      <th>2</th>\n",
       "      <td>3220000</td>\n",
       "      <td>2010</td>\n",
       "      <td>0024</td>\n",
       "      <td>20100210</td>\n",
       "      <td>20100210</td>\n",
       "      <td>스시히로바</td>\n",
       "      <td>서울특별시 강남구 삼성로 620, 블래스톤리조트 지상1층 (삼성동)</td>\n",
       "      <td>서울특별시 강남구 삼성동  70번지  블래스톤리조트</td>\n",
       "      <td>3220000-101-2002-00383</td>\n",
       "      <td>일식</td>\n",
       "      <td>초밥</td>\n",
       "      <td>216.56</td>\n",
       "      <td>삼성1동</td>\n",
       "      <td>상수도전용</td>\n",
       "      <td>02 5155511</td>\n",
       "    </tr>\n",
       "    <tr>\n",
       "      <th>3</th>\n",
       "      <td>3220000</td>\n",
       "      <td>2016</td>\n",
       "      <td>0089</td>\n",
       "      <td>20161125</td>\n",
       "      <td>20161125</td>\n",
       "      <td>서백자 간장게장</td>\n",
       "      <td>서울특별시 강남구 삼성로 542, 지상2층 (삼성동, 석천빌딩)</td>\n",
       "      <td>서울특별시 강남구 삼성동  151번지 4호  석천빌딩 2층</td>\n",
       "      <td>3220000-101-2012-00416</td>\n",
       "      <td>중국식</td>\n",
       "      <td>간장게장</td>\n",
       "      <td>260.30</td>\n",
       "      <td>삼성1동</td>\n",
       "      <td></td>\n",
       "      <td>02  34536008</td>\n",
       "    </tr>\n",
       "    <tr>\n",
       "      <th>4</th>\n",
       "      <td>3220000</td>\n",
       "      <td>2016</td>\n",
       "      <td>0084</td>\n",
       "      <td>20161125</td>\n",
       "      <td>20161125</td>\n",
       "      <td>주)봉산집</td>\n",
       "      <td>서울특별시 강남구 삼성로 564, 지상2층,지상3층 (삼성동)</td>\n",
       "      <td>서울특별시 강남구 삼성동  145번지 19호</td>\n",
       "      <td>3220000-101-2011-01048</td>\n",
       "      <td>한식</td>\n",
       "      <td>차돌박이</td>\n",
       "      <td>452.95</td>\n",
       "      <td>삼성1동</td>\n",
       "      <td></td>\n",
       "      <td></td>\n",
       "    </tr>\n",
       "  </tbody>\n",
       "</table>\n",
       "</div>"
      ],
      "text/plain": [
       "  CGG_CODE ASGN_YY ASGN_SNO  APPL_YMD  ASGN_YMD         UPSO_NM  \\\n",
       "0  3220000    2014     0160  20141006  20141006            이도곰탕   \n",
       "1  3220000    2021     139   20181001  20211116  솥내음 스타필드 코엑스몰점   \n",
       "2  3220000    2010     0024  20100210  20100210           스시히로바   \n",
       "3  3220000    2016     0089  20161125  20161125        서백자 간장게장   \n",
       "4  3220000    2016     0084  20161125  20161125           주)봉산집   \n",
       "\n",
       "                                SITE_ADDR_RD  \\\n",
       "0     서울특별시 강남구 논현로94길 29-5, 지상1층,지상2층 (역삼동)   \n",
       "1  서울특별시 강남구 영동대로 513, 코엑스 지하1층 O-107호 (삼성동)   \n",
       "2      서울특별시 강남구 삼성로 620, 블래스톤리조트 지상1층 (삼성동)   \n",
       "3        서울특별시 강남구 삼성로 542, 지상2층 (삼성동, 석천빌딩)   \n",
       "4         서울특별시 강남구 삼성로 564, 지상2층,지상3층 (삼성동)   \n",
       "\n",
       "                          SITE_ADDR              PERM_NT_NO SNT_UPTAE_NM  \\\n",
       "0        서울특별시 강남구 역삼동  671번지 17호    3220000-101-2001-24197           한식   \n",
       "1         서울특별시 강남구 삼성동  159번지  코엑스  3220000-101-2020-00643           한식   \n",
       "2      서울특별시 강남구 삼성동  70번지  블래스톤리조트  3220000-101-2002-00383           일식   \n",
       "3  서울특별시 강남구 삼성동  151번지 4호  석천빌딩 2층  3220000-101-2012-00416          중국식   \n",
       "4        서울특별시 강남구 삼성동  145번지 19호    3220000-101-2011-01048           한식   \n",
       "\n",
       "  MAIN_EDF  TRDP_AREA ADMDNG_NM GRADE_FACIL_GBN UPSO_SITE_TELNO  \n",
       "0       곰탕     194.41      역삼1동           상수도전용      02 5010738  \n",
       "1     직화불백      74.56      삼성1동                                  \n",
       "2       초밥     216.56      삼성1동           상수도전용      02 5155511  \n",
       "3     간장게장     260.30      삼성1동                    02  34536008  \n",
       "4     차돌박이     452.95      삼성1동                                  "
      ]
     },
     "execution_count": 5,
     "metadata": {},
     "output_type": "execute_result"
    }
   ],
   "source": [
    "designate_df = pd.DataFrame(response_json['row'])\n",
    "designate_df.head()"
   ]
  },
  {
   "cell_type": "code",
   "execution_count": 6,
   "id": "c7f0bb95",
   "metadata": {
    "ExecuteTime": {
     "end_time": "2024-04-15T13:09:06.703849Z",
     "start_time": "2024-04-15T13:09:06.672617Z"
    }
   },
   "outputs": [
    {
     "name": "stdout",
     "output_type": "stream",
     "text": [
      "<class 'pandas.core.frame.DataFrame'>\n",
      "RangeIndex: 316 entries, 0 to 315\n",
      "Data columns (total 15 columns):\n",
      " #   Column           Non-Null Count  Dtype  \n",
      "---  ------           --------------  -----  \n",
      " 0   CGG_CODE         316 non-null    object \n",
      " 1   ASGN_YY          316 non-null    object \n",
      " 2   ASGN_SNO         316 non-null    object \n",
      " 3   APPL_YMD         316 non-null    object \n",
      " 4   ASGN_YMD         316 non-null    object \n",
      " 5   UPSO_NM          316 non-null    object \n",
      " 6   SITE_ADDR_RD     316 non-null    object \n",
      " 7   SITE_ADDR        316 non-null    object \n",
      " 8   PERM_NT_NO       316 non-null    object \n",
      " 9   SNT_UPTAE_NM     316 non-null    object \n",
      " 10  MAIN_EDF         316 non-null    object \n",
      " 11  TRDP_AREA        316 non-null    float64\n",
      " 12  ADMDNG_NM        316 non-null    object \n",
      " 13  GRADE_FACIL_GBN  316 non-null    object \n",
      " 14  UPSO_SITE_TELNO  316 non-null    object \n",
      "dtypes: float64(1), object(14)\n",
      "memory usage: 37.2+ KB\n"
     ]
    }
   ],
   "source": [
    "designate_df.info()"
   ]
  },
  {
   "cell_type": "markdown",
   "id": "7f3d3ee5",
   "metadata": {},
   "source": [
    "|출력명|출력설명|\n",
    "|:--:|:--:|\n",
    "|CGG_CODE|시군구코드|\n",
    "|ASGN_YY|지정년도|\n",
    "|ASGN_SNO|지정번호|\n",
    "|APPL_YMD|신청일자|\n",
    "|ASGN_YMD|지정일자|\n",
    "|UPSO_NM|업소명|\n",
    "|SITE_ADDR_RD|소재지도로명|\n",
    "|SITE_ADDR|소재지지번|\n",
    "|PERM_NT_NO|허가(신고)번호|\n",
    "|SNT_UPTAE_NM|업태명|\n",
    "|MAIN_EDF|주된음식|\n",
    "|TRDP_AREA|영업장면적(㎡)|\n",
    "|ADMDNG_NM|행정동명|\n",
    "|GRADE_FACIL_GBN|급수시설구분|\n",
    "|UPSO_SITE_TELNO|소재지전화번호|"
   ]
  },
  {
   "cell_type": "markdown",
   "id": "1c38ac18",
   "metadata": {},
   "source": [
    "### 서울시 강남구 모범음식점 신청 현황"
   ]
  },
  {
   "cell_type": "markdown",
   "id": "6e2076a8",
   "metadata": {},
   "source": [
    "https://data.seoul.go.kr/dataList/OA-11314/S/1/datasetView.do"
   ]
  },
  {
   "cell_type": "markdown",
   "id": "492e4ba4",
   "metadata": {},
   "source": [
    "|변수명|타입|변수설명|값설명|\n",
    "|:--:|:--:|:--:|:--:|\n",
    "|KEY|String(필수)|인증키|OpenAPI 에서 발급된 인증키|\n",
    "|TYPE|String(필수)|요청파일타입|xml : xml, xml파일 : xmlf, 엑셀파일 : xls, json파일 : json|\n",
    "|SERVICE|String(필수)|서비스명|GnModelRestaurantApply|\n",
    "|START_INDEX|INTEGER(필수)|요청시작위치|정수 입력 (페이징 시작번호 입니다 : 데이터 행 시작번호)|\n",
    "|END_INDEX|INTEGER(필수)|요청종료위치|정수 입력 (페이징 끝번호 입니다 : 데이터 행 끝번호)|\n",
    "|UPSO_NM|STRING(선택)|업소명|업소명|\n",
    "|MAIN_EDF|STRING(선택)|주된음식|주된음식|\n",
    "|ADMDNG_NM|STRING(선택)|행정동명|행정동명|"
   ]
  },
  {
   "cell_type": "code",
   "execution_count": 7,
   "id": "70e29798",
   "metadata": {
    "ExecuteTime": {
     "end_time": "2024-04-15T13:08:54.595904Z",
     "start_time": "2024-04-15T13:08:51.974114Z"
    }
   },
   "outputs": [
    {
     "name": "stdout",
     "output_type": "stream",
     "text": [
      "정상 처리되었습니다 (데이터 크기: 713)\n"
     ]
    }
   ],
   "source": [
    "header = {\n",
    "    'KEY': key,\n",
    "    'TYPE': 'json',\n",
    "    'SERVICE': 'GnModelRestaurantApply',\n",
    "    'START_INDEX': 1,\n",
    "    'END_INDEX': 1000\n",
    "}\n",
    "\n",
    "url = 'http://openAPI.gangnam.go.kr:8088'\n",
    "for v in header.values():\n",
    "    url += '/' + str(v)\n",
    "\n",
    "response = requests.get(url)\n",
    "if response.status_code == 200:\n",
    "    response_json = json.loads(response.content)[header['SERVICE']]\n",
    "    print(response_json['RESULT']['MESSAGE'] + f''' (데이터 크기: {response_json['list_total_count']})''')\n",
    "else:\n",
    "    print(\"error\")"
   ]
  },
  {
   "cell_type": "code",
   "execution_count": 8,
   "id": "d1864407",
   "metadata": {
    "ExecuteTime": {
     "end_time": "2024-04-15T13:08:54.626948Z",
     "start_time": "2024-04-15T13:08:54.597314Z"
    },
    "scrolled": false
   },
   "outputs": [
    {
     "data": {
      "text/html": [
       "<div>\n",
       "<style scoped>\n",
       "    .dataframe tbody tr th:only-of-type {\n",
       "        vertical-align: middle;\n",
       "    }\n",
       "\n",
       "    .dataframe tbody tr th {\n",
       "        vertical-align: top;\n",
       "    }\n",
       "\n",
       "    .dataframe thead th {\n",
       "        text-align: right;\n",
       "    }\n",
       "</style>\n",
       "<table border=\"1\" class=\"dataframe\">\n",
       "  <thead>\n",
       "    <tr style=\"text-align: right;\">\n",
       "      <th></th>\n",
       "      <th>CGG_CODE</th>\n",
       "      <th>ASGN_YY</th>\n",
       "      <th>ASGN_SNO</th>\n",
       "      <th>APPL_YMD</th>\n",
       "      <th>ASGN_YMD</th>\n",
       "      <th>ASGN_CANCEL_YMD</th>\n",
       "      <th>IPSB_YMD</th>\n",
       "      <th>UPSO_NM</th>\n",
       "      <th>SITE_ADDR_RD</th>\n",
       "      <th>SITE_ADDR</th>\n",
       "      <th>PERM_NT_NO</th>\n",
       "      <th>SNT_UPTAE_NM</th>\n",
       "      <th>MAIN_EDF</th>\n",
       "      <th>TRDP_AREA</th>\n",
       "      <th>ADMDNG_NM</th>\n",
       "      <th>GRADE_FACIL_GBN</th>\n",
       "    </tr>\n",
       "  </thead>\n",
       "  <tbody>\n",
       "    <tr>\n",
       "      <th>0</th>\n",
       "      <td>3220000</td>\n",
       "      <td>2010</td>\n",
       "      <td>0012</td>\n",
       "      <td>20100210</td>\n",
       "      <td>20100210</td>\n",
       "      <td>20151106</td>\n",
       "      <td></td>\n",
       "      <td>고수</td>\n",
       "      <td>서울특별시 강남구 논현로149길 12, (논현동,지상1층)</td>\n",
       "      <td>서울특별시 강남구 논현동  7번지 9호  지상1층</td>\n",
       "      <td>3220000-101-2009-00214</td>\n",
       "      <td>한식</td>\n",
       "      <td></td>\n",
       "      <td>92.40</td>\n",
       "      <td>논현1동</td>\n",
       "      <td></td>\n",
       "    </tr>\n",
       "    <tr>\n",
       "      <th>1</th>\n",
       "      <td>3220000</td>\n",
       "      <td>2014</td>\n",
       "      <td>0160</td>\n",
       "      <td>20141006</td>\n",
       "      <td>20141006</td>\n",
       "      <td></td>\n",
       "      <td></td>\n",
       "      <td>이도곰탕</td>\n",
       "      <td>서울특별시 강남구 논현로94길 29-5, 지상1층,지상2층 (역삼동)</td>\n",
       "      <td>서울특별시 강남구 역삼동  671번지 17호</td>\n",
       "      <td>3220000-101-2001-24197</td>\n",
       "      <td>한식</td>\n",
       "      <td>곰탕</td>\n",
       "      <td>194.41</td>\n",
       "      <td>역삼1동</td>\n",
       "      <td>상수도전용</td>\n",
       "    </tr>\n",
       "    <tr>\n",
       "      <th>2</th>\n",
       "      <td>3220000</td>\n",
       "      <td>2021</td>\n",
       "      <td>139</td>\n",
       "      <td>20181001</td>\n",
       "      <td>20211116</td>\n",
       "      <td></td>\n",
       "      <td></td>\n",
       "      <td>솥내음 스타필드 코엑스몰점</td>\n",
       "      <td>서울특별시 강남구 영동대로 513, 코엑스 지하1층 O-107호 (삼성동)</td>\n",
       "      <td>서울특별시 강남구 삼성동  159번지  코엑스</td>\n",
       "      <td>3220000-101-2020-00643</td>\n",
       "      <td>한식</td>\n",
       "      <td>직화불백</td>\n",
       "      <td>74.56</td>\n",
       "      <td>삼성1동</td>\n",
       "      <td></td>\n",
       "    </tr>\n",
       "    <tr>\n",
       "      <th>3</th>\n",
       "      <td>3220000</td>\n",
       "      <td>2010</td>\n",
       "      <td>0024</td>\n",
       "      <td>20100210</td>\n",
       "      <td>20100210</td>\n",
       "      <td></td>\n",
       "      <td></td>\n",
       "      <td>스시히로바</td>\n",
       "      <td>서울특별시 강남구 삼성로 620, 블래스톤리조트 지상1층 (삼성동)</td>\n",
       "      <td>서울특별시 강남구 삼성동  70번지  블래스톤리조트</td>\n",
       "      <td>3220000-101-2002-00383</td>\n",
       "      <td>일식</td>\n",
       "      <td>초밥</td>\n",
       "      <td>216.56</td>\n",
       "      <td>삼성1동</td>\n",
       "      <td>상수도전용</td>\n",
       "    </tr>\n",
       "    <tr>\n",
       "      <th>4</th>\n",
       "      <td>3220000</td>\n",
       "      <td>2016</td>\n",
       "      <td>0089</td>\n",
       "      <td>20161125</td>\n",
       "      <td>20161125</td>\n",
       "      <td></td>\n",
       "      <td></td>\n",
       "      <td>서백자 간장게장</td>\n",
       "      <td>서울특별시 강남구 삼성로 542, 지상2층 (삼성동, 석천빌딩)</td>\n",
       "      <td>서울특별시 강남구 삼성동  151번지 4호  석천빌딩 2층</td>\n",
       "      <td>3220000-101-2012-00416</td>\n",
       "      <td>중국식</td>\n",
       "      <td>간장게장</td>\n",
       "      <td>260.30</td>\n",
       "      <td>삼성1동</td>\n",
       "      <td></td>\n",
       "    </tr>\n",
       "  </tbody>\n",
       "</table>\n",
       "</div>"
      ],
      "text/plain": [
       "  CGG_CODE ASGN_YY ASGN_SNO  APPL_YMD  ASGN_YMD ASGN_CANCEL_YMD IPSB_YMD  \\\n",
       "0  3220000    2010     0012  20100210  20100210        20151106            \n",
       "1  3220000    2014     0160  20141006  20141006                            \n",
       "2  3220000    2021     139   20181001  20211116                            \n",
       "3  3220000    2010     0024  20100210  20100210                            \n",
       "4  3220000    2016     0089  20161125  20161125                            \n",
       "\n",
       "          UPSO_NM                               SITE_ADDR_RD  \\\n",
       "0              고수           서울특별시 강남구 논현로149길 12, (논현동,지상1층)   \n",
       "1            이도곰탕     서울특별시 강남구 논현로94길 29-5, 지상1층,지상2층 (역삼동)   \n",
       "2  솥내음 스타필드 코엑스몰점  서울특별시 강남구 영동대로 513, 코엑스 지하1층 O-107호 (삼성동)   \n",
       "3           스시히로바      서울특별시 강남구 삼성로 620, 블래스톤리조트 지상1층 (삼성동)   \n",
       "4        서백자 간장게장        서울특별시 강남구 삼성로 542, 지상2층 (삼성동, 석천빌딩)   \n",
       "\n",
       "                          SITE_ADDR              PERM_NT_NO SNT_UPTAE_NM  \\\n",
       "0       서울특별시 강남구 논현동  7번지 9호  지상1층  3220000-101-2009-00214           한식   \n",
       "1        서울특별시 강남구 역삼동  671번지 17호    3220000-101-2001-24197           한식   \n",
       "2         서울특별시 강남구 삼성동  159번지  코엑스  3220000-101-2020-00643           한식   \n",
       "3      서울특별시 강남구 삼성동  70번지  블래스톤리조트  3220000-101-2002-00383           일식   \n",
       "4  서울특별시 강남구 삼성동  151번지 4호  석천빌딩 2층  3220000-101-2012-00416          중국식   \n",
       "\n",
       "  MAIN_EDF  TRDP_AREA ADMDNG_NM GRADE_FACIL_GBN  \n",
       "0               92.40      논현1동                  \n",
       "1       곰탕     194.41      역삼1동           상수도전용  \n",
       "2     직화불백      74.56      삼성1동                  \n",
       "3       초밥     216.56      삼성1동           상수도전용  \n",
       "4     간장게장     260.30      삼성1동                  "
      ]
     },
     "execution_count": 8,
     "metadata": {},
     "output_type": "execute_result"
    }
   ],
   "source": [
    "apply_df = pd.DataFrame(response_json['row'])\n",
    "apply_df.head()"
   ]
  },
  {
   "cell_type": "code",
   "execution_count": 9,
   "id": "6d60672f",
   "metadata": {
    "ExecuteTime": {
     "end_time": "2024-04-15T13:09:06.703849Z",
     "start_time": "2024-04-15T13:09:06.672617Z"
    }
   },
   "outputs": [
    {
     "name": "stdout",
     "output_type": "stream",
     "text": [
      "<class 'pandas.core.frame.DataFrame'>\n",
      "RangeIndex: 713 entries, 0 to 712\n",
      "Data columns (total 16 columns):\n",
      " #   Column           Non-Null Count  Dtype  \n",
      "---  ------           --------------  -----  \n",
      " 0   CGG_CODE         713 non-null    object \n",
      " 1   ASGN_YY          713 non-null    object \n",
      " 2   ASGN_SNO         713 non-null    object \n",
      " 3   APPL_YMD         713 non-null    object \n",
      " 4   ASGN_YMD         713 non-null    object \n",
      " 5   ASGN_CANCEL_YMD  713 non-null    object \n",
      " 6   IPSB_YMD         713 non-null    object \n",
      " 7   UPSO_NM          713 non-null    object \n",
      " 8   SITE_ADDR_RD     713 non-null    object \n",
      " 9   SITE_ADDR        713 non-null    object \n",
      " 10  PERM_NT_NO       713 non-null    object \n",
      " 11  SNT_UPTAE_NM     713 non-null    object \n",
      " 12  MAIN_EDF         713 non-null    object \n",
      " 13  TRDP_AREA        713 non-null    float64\n",
      " 14  ADMDNG_NM        713 non-null    object \n",
      " 15  GRADE_FACIL_GBN  713 non-null    object \n",
      "dtypes: float64(1), object(15)\n",
      "memory usage: 89.2+ KB\n"
     ]
    }
   ],
   "source": [
    "apply_df.info()"
   ]
  },
  {
   "cell_type": "markdown",
   "id": "0c5e66aa",
   "metadata": {},
   "source": [
    "|출력명|출력설명|\n",
    "|:--:|:--:|\n",
    "|CGG_CODE|시군구코드|\n",
    "|ASGN_YY|지정년도|\n",
    "|ASGN_SNO|지정번호|\n",
    "|APPL_YMD|신청일자|\n",
    "|ASGN_YMD|지정일자|\n",
    "|ASGN_CANCEL_YMD|취소일자|\n",
    "|IPSB_YMD|불가일자|\n",
    "|UPSO_NM|업소명|\n",
    "|SITE_ADDR_RD|소재지도로명|\n",
    "|SITE_ADDR|소재지지번|\n",
    "|PERM_NT_NO|허가(신고)번호|\n",
    "|SNT_UPTAE_NM|업태명|\n",
    "|MAIN_EDF|주된음식|\n",
    "|TRDP_AREA|영업장면적(㎡)|\n",
    "|ADMDNG_NM|행정동명|\n",
    "|GRADE_FACIL_GBN|급수시설구분|"
   ]
  },
  {
   "cell_type": "markdown",
   "id": "407d59ae",
   "metadata": {},
   "source": [
    "### 서울시 강남구 모범음식점 취소 현황"
   ]
  },
  {
   "cell_type": "markdown",
   "id": "d37a2604",
   "metadata": {},
   "source": [
    "https://data.seoul.go.kr/dataList/OA-11313/S/1/datasetView.do"
   ]
  },
  {
   "cell_type": "markdown",
   "id": "140de8eb",
   "metadata": {},
   "source": [
    "|변수명|타입|변수설명|값설명|\n",
    "|:--:|:--:|:--:|:--:|\n",
    "|KEY|String(필수)|인증키|OpenAPI 에서 발급된 인증키|\n",
    "|TYPE|String(필수)|요청파일타입|xml : xml, xml파일 : xmlf, 엑셀파일 : xls, json파일 : json|\n",
    "|SERVICE|String(필수)|서비스명|GnModelRestaurantCancel|\n",
    "|START_INDEX|INTEGER(필수)|요청시작위치|정수 입력 (페이징 시작번호 입니다 : 데이터 행 시작번호)|\n",
    "|END_INDEX|INTEGER(필수)|요청종료위치|정수 입력 (페이징 끝번호 입니다 : 데이터 행 끝번호)|\n",
    "|UPSO_NM|STRING(선택)|업소명|업소명|\n",
    "|MAIN_EDF|STRING(선택)|주된음식|주된음식|\n",
    "|ADMDNG_NM|STRING(선택)|행정동명|행정동명|"
   ]
  },
  {
   "cell_type": "code",
   "execution_count": 10,
   "id": "ba05f5de",
   "metadata": {
    "ExecuteTime": {
     "end_time": "2024-04-15T13:09:11.438631Z",
     "start_time": "2024-04-15T13:09:10.097528Z"
    }
   },
   "outputs": [
    {
     "name": "stdout",
     "output_type": "stream",
     "text": [
      "정상 처리되었습니다 (데이터 크기: 385)\n"
     ]
    }
   ],
   "source": [
    "header = {\n",
    "    'KEY': key,\n",
    "    'TYPE': 'json',\n",
    "    'SERVICE': 'GnModelRestaurantCancel',\n",
    "    'START_INDEX': 1,\n",
    "    'END_INDEX': 1000\n",
    "}\n",
    "\n",
    "url = 'http://openAPI.gangnam.go.kr:8088'\n",
    "for v in header.values():\n",
    "    url += '/' + str(v)\n",
    "\n",
    "response = requests.get(url)\n",
    "if response.status_code == 200:\n",
    "    response_json = json.loads(response.content)[header['SERVICE']]\n",
    "    print(response_json['RESULT']['MESSAGE'] + f''' (데이터 크기: {response_json['list_total_count']})''')\n",
    "else:\n",
    "    print(\"error\")"
   ]
  },
  {
   "cell_type": "code",
   "execution_count": 11,
   "id": "b8f93daa",
   "metadata": {
    "ExecuteTime": {
     "end_time": "2024-04-15T13:09:11.469768Z",
     "start_time": "2024-04-15T13:09:11.441025Z"
    },
    "scrolled": false
   },
   "outputs": [
    {
     "data": {
      "text/html": [
       "<div>\n",
       "<style scoped>\n",
       "    .dataframe tbody tr th:only-of-type {\n",
       "        vertical-align: middle;\n",
       "    }\n",
       "\n",
       "    .dataframe tbody tr th {\n",
       "        vertical-align: top;\n",
       "    }\n",
       "\n",
       "    .dataframe thead th {\n",
       "        text-align: right;\n",
       "    }\n",
       "</style>\n",
       "<table border=\"1\" class=\"dataframe\">\n",
       "  <thead>\n",
       "    <tr style=\"text-align: right;\">\n",
       "      <th></th>\n",
       "      <th>CGG_CODE</th>\n",
       "      <th>ASGN_YY</th>\n",
       "      <th>ASGN_SNO</th>\n",
       "      <th>APPL_YMD</th>\n",
       "      <th>ASGN_YMD</th>\n",
       "      <th>ASGN_CANCEL_YMD</th>\n",
       "      <th>UPSO_NM</th>\n",
       "      <th>SITE_ADDR_RD</th>\n",
       "      <th>SITE_ADDR</th>\n",
       "      <th>PERM_NT_NO</th>\n",
       "      <th>SNT_UPTAE_NM</th>\n",
       "      <th>ASGN_CANCEL_WHY</th>\n",
       "      <th>MAIN_EDF</th>\n",
       "      <th>TRDP_AREA</th>\n",
       "      <th>ADMDNG_NM</th>\n",
       "      <th>GRADE_FACIL_GBN</th>\n",
       "    </tr>\n",
       "  </thead>\n",
       "  <tbody>\n",
       "    <tr>\n",
       "      <th>0</th>\n",
       "      <td>3220000</td>\n",
       "      <td>2010</td>\n",
       "      <td>0012</td>\n",
       "      <td>20100210</td>\n",
       "      <td>20100210</td>\n",
       "      <td>20151106</td>\n",
       "      <td>고수</td>\n",
       "      <td>서울특별시 강남구 논현로149길 12, (논현동,지상1층)</td>\n",
       "      <td>서울특별시 강남구 논현동  7번지 9호  지상1층</td>\n",
       "      <td>3220000-101-2009-00214</td>\n",
       "      <td>한식</td>\n",
       "      <td>영업주 변경(미지정)</td>\n",
       "      <td></td>\n",
       "      <td>92.40</td>\n",
       "      <td>논현1동</td>\n",
       "      <td></td>\n",
       "    </tr>\n",
       "    <tr>\n",
       "      <th>1</th>\n",
       "      <td>3220000</td>\n",
       "      <td>2016</td>\n",
       "      <td>0133</td>\n",
       "      <td>20161125</td>\n",
       "      <td>20161125</td>\n",
       "      <td>20191128</td>\n",
       "      <td>두어마리</td>\n",
       "      <td>서울특별시 강남구 봉은사로114길 38, (삼성동)</td>\n",
       "      <td>서울특별시 강남구 삼성동  166번지 3호</td>\n",
       "      <td>3220000-101-1995-14693</td>\n",
       "      <td>한식</td>\n",
       "      <td>평가점수 미달(50점)</td>\n",
       "      <td>순두부</td>\n",
       "      <td>79.97</td>\n",
       "      <td>삼성1동</td>\n",
       "      <td>상수도전용</td>\n",
       "    </tr>\n",
       "    <tr>\n",
       "      <th>2</th>\n",
       "      <td>3220000</td>\n",
       "      <td>2000</td>\n",
       "      <td>0075</td>\n",
       "      <td>20001001</td>\n",
       "      <td>20001130</td>\n",
       "      <td>20050203</td>\n",
       "      <td>한교방 서울면옥</td>\n",
       "      <td>서울특별시 강남구 학동로45길 8, (논현동)</td>\n",
       "      <td>서울특별시 강남구 논현동  117번지 8호</td>\n",
       "      <td>3220000-101-1993-20364</td>\n",
       "      <td>한식</td>\n",
       "      <td>영업자지위승계</td>\n",
       "      <td>정식</td>\n",
       "      <td>119.68</td>\n",
       "      <td>논현2동</td>\n",
       "      <td>상수도전용</td>\n",
       "    </tr>\n",
       "    <tr>\n",
       "      <th>3</th>\n",
       "      <td>3220000</td>\n",
       "      <td>2010</td>\n",
       "      <td>0005</td>\n",
       "      <td>20100210</td>\n",
       "      <td>20100210</td>\n",
       "      <td>20110823</td>\n",
       "      <td>한교방 서울면옥</td>\n",
       "      <td>서울특별시 강남구 학동로45길 8, (논현동)</td>\n",
       "      <td>서울특별시 강남구 논현동  117번지 8호</td>\n",
       "      <td>3220000-101-1993-20364</td>\n",
       "      <td>한식</td>\n",
       "      <td>상호변경</td>\n",
       "      <td></td>\n",
       "      <td>119.68</td>\n",
       "      <td>논현2동</td>\n",
       "      <td>상수도전용</td>\n",
       "    </tr>\n",
       "    <tr>\n",
       "      <th>4</th>\n",
       "      <td>3220000</td>\n",
       "      <td>2010</td>\n",
       "      <td>0025</td>\n",
       "      <td>20100210</td>\n",
       "      <td>20100210</td>\n",
       "      <td>20201106</td>\n",
       "      <td>이마스시</td>\n",
       "      <td>서울특별시 강남구 논현로168길 22, 계진빌딩 지상1층 (신사동)</td>\n",
       "      <td>서울특별시 강남구 신사동  600번지 4호  계진빌딩</td>\n",
       "      <td>3220000-101-2004-01082</td>\n",
       "      <td>일식</td>\n",
       "      <td>평가불가(휴업)</td>\n",
       "      <td>생선회</td>\n",
       "      <td>165.00</td>\n",
       "      <td>신사동</td>\n",
       "      <td>상수도전용</td>\n",
       "    </tr>\n",
       "  </tbody>\n",
       "</table>\n",
       "</div>"
      ],
      "text/plain": [
       "  CGG_CODE ASGN_YY ASGN_SNO  APPL_YMD  ASGN_YMD ASGN_CANCEL_YMD   UPSO_NM  \\\n",
       "0  3220000    2010     0012  20100210  20100210        20151106        고수   \n",
       "1  3220000    2016     0133  20161125  20161125        20191128      두어마리   \n",
       "2  3220000    2000     0075  20001001  20001130        20050203  한교방 서울면옥   \n",
       "3  3220000    2010     0005  20100210  20100210        20110823  한교방 서울면옥   \n",
       "4  3220000    2010     0025  20100210  20100210        20201106      이마스시   \n",
       "\n",
       "                            SITE_ADDR_RD                      SITE_ADDR  \\\n",
       "0       서울특별시 강남구 논현로149길 12, (논현동,지상1층)    서울특별시 강남구 논현동  7번지 9호  지상1층   \n",
       "1           서울특별시 강남구 봉은사로114길 38, (삼성동)      서울특별시 강남구 삼성동  166번지 3호     \n",
       "2              서울특별시 강남구 학동로45길 8, (논현동)      서울특별시 강남구 논현동  117번지 8호     \n",
       "3              서울특별시 강남구 학동로45길 8, (논현동)      서울특별시 강남구 논현동  117번지 8호     \n",
       "4  서울특별시 강남구 논현로168길 22, 계진빌딩 지상1층 (신사동)  서울특별시 강남구 신사동  600번지 4호  계진빌딩   \n",
       "\n",
       "               PERM_NT_NO SNT_UPTAE_NM ASGN_CANCEL_WHY MAIN_EDF  TRDP_AREA  \\\n",
       "0  3220000-101-2009-00214           한식     영업주 변경(미지정)               92.40   \n",
       "1  3220000-101-1995-14693           한식    평가점수 미달(50점)      순두부      79.97   \n",
       "2  3220000-101-1993-20364           한식         영업자지위승계       정식     119.68   \n",
       "3  3220000-101-1993-20364           한식            상호변경              119.68   \n",
       "4  3220000-101-2004-01082           일식        평가불가(휴업)      생선회     165.00   \n",
       "\n",
       "  ADMDNG_NM GRADE_FACIL_GBN  \n",
       "0      논현1동                  \n",
       "1      삼성1동           상수도전용  \n",
       "2      논현2동           상수도전용  \n",
       "3      논현2동           상수도전용  \n",
       "4       신사동           상수도전용  "
      ]
     },
     "execution_count": 11,
     "metadata": {},
     "output_type": "execute_result"
    }
   ],
   "source": [
    "cancel_df = pd.DataFrame(response_json['row'])\n",
    "cancel_df.head()"
   ]
  },
  {
   "cell_type": "code",
   "execution_count": 12,
   "id": "a5d2b513",
   "metadata": {
    "ExecuteTime": {
     "end_time": "2024-04-15T13:09:11.500817Z",
     "start_time": "2024-04-15T13:09:11.471686Z"
    }
   },
   "outputs": [
    {
     "name": "stdout",
     "output_type": "stream",
     "text": [
      "<class 'pandas.core.frame.DataFrame'>\n",
      "RangeIndex: 385 entries, 0 to 384\n",
      "Data columns (total 16 columns):\n",
      " #   Column           Non-Null Count  Dtype  \n",
      "---  ------           --------------  -----  \n",
      " 0   CGG_CODE         385 non-null    object \n",
      " 1   ASGN_YY          385 non-null    object \n",
      " 2   ASGN_SNO         385 non-null    object \n",
      " 3   APPL_YMD         385 non-null    object \n",
      " 4   ASGN_YMD         385 non-null    object \n",
      " 5   ASGN_CANCEL_YMD  385 non-null    object \n",
      " 6   UPSO_NM          385 non-null    object \n",
      " 7   SITE_ADDR_RD     385 non-null    object \n",
      " 8   SITE_ADDR        385 non-null    object \n",
      " 9   PERM_NT_NO       385 non-null    object \n",
      " 10  SNT_UPTAE_NM     385 non-null    object \n",
      " 11  ASGN_CANCEL_WHY  385 non-null    object \n",
      " 12  MAIN_EDF         385 non-null    object \n",
      " 13  TRDP_AREA        385 non-null    float64\n",
      " 14  ADMDNG_NM        385 non-null    object \n",
      " 15  GRADE_FACIL_GBN  385 non-null    object \n",
      "dtypes: float64(1), object(15)\n",
      "memory usage: 48.2+ KB\n"
     ]
    }
   ],
   "source": [
    "cancel_df.info()"
   ]
  },
  {
   "cell_type": "markdown",
   "id": "e71fabb1",
   "metadata": {},
   "source": [
    "|출력명|출력설명|\n",
    "|:--:|:--:|\n",
    "|CGG_CODE|시군구코드|\n",
    "|ASGN_YY|지정년도|\n",
    "|ASGN_SNO|지정번호|\n",
    "|APPL_YMD|신청일자|\n",
    "|ASGN_YMD|지정일자|\n",
    "|ASGN_CANCEL_YMD|취소일자|\n",
    "|UPSO_NM|업소명|\n",
    "|SITE_ADDR_RD|소재지도로명|\n",
    "|SITE_ADDR|소재지지번|\n",
    "|PERM_NT_NO|허가(신고)번호|\n",
    "|SNT_UPTAE_NM|업태명|\n",
    "|ASGN_CANCEL_WHY|지정취소사유|\n",
    "|MAIN_EDF|주된음식|\n",
    "|TRDP_AREA|영업장면적(㎡)|\n",
    "|ADMDNG_NM|행정동명|\n",
    "|GRADE_FACIL_GBN|급수시설구분|"
   ]
  },
  {
   "cell_type": "code",
   "execution_count": 13,
   "id": "dfebc5bb",
   "metadata": {
    "ExecuteTime": {
     "end_time": "2024-04-15T13:10:53.255454Z",
     "start_time": "2024-04-15T13:10:53.241091Z"
    }
   },
   "outputs": [
    {
     "data": {
      "text/plain": [
       "((316, 15), (713, 16), (385, 16))"
      ]
     },
     "execution_count": 13,
     "metadata": {},
     "output_type": "execute_result"
    }
   ],
   "source": [
    "designate_df.shape, apply_df.shape, cancel_df.shape"
   ]
  },
  {
   "cell_type": "code",
   "execution_count": 14,
   "id": "705e8f2b",
   "metadata": {
    "ExecuteTime": {
     "end_time": "2024-04-15T13:13:39.464058Z",
     "start_time": "2024-04-15T13:13:39.440182Z"
    }
   },
   "outputs": [],
   "source": [
    "result = {\n",
    "    'time': datetime.now().strftime('%Y-%m-%d %H:%M:%S'),\n",
    "    'data': {'지정': designate_df, '신청': apply_df, '취소': cancel_df}\n",
    "}\n",
    "\n",
    "with open('data/result.pkl', 'wb') as file:\n",
    "    pickle.dump(result, file)"
   ]
  },
  {
   "cell_type": "code",
   "execution_count": null,
   "id": "d64d9f3c",
   "metadata": {},
   "outputs": [],
   "source": []
  }
 ],
 "metadata": {
  "kernelspec": {
   "display_name": "Python 3 (ipykernel)",
   "language": "python",
   "name": "python3"
  },
  "language_info": {
   "codemirror_mode": {
    "name": "ipython",
    "version": 3
   },
   "file_extension": ".py",
   "mimetype": "text/x-python",
   "name": "python",
   "nbconvert_exporter": "python",
   "pygments_lexer": "ipython3",
   "version": "3.11.0"
  },
  "toc": {
   "base_numbering": 1,
   "nav_menu": {},
   "number_sections": false,
   "sideBar": true,
   "skip_h1_title": false,
   "title_cell": "Table of Contents",
   "title_sidebar": "Contents",
   "toc_cell": false,
   "toc_position": {
    "height": "calc(100% - 180px)",
    "left": "10px",
    "top": "150px",
    "width": "304px"
   },
   "toc_section_display": true,
   "toc_window_display": true
  }
 },
 "nbformat": 4,
 "nbformat_minor": 5
}
