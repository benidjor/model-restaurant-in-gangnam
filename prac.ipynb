{
 "cells": [
  {
   "cell_type": "code",
   "execution_count": 1,
   "metadata": {},
   "outputs": [],
   "source": [
    "import numpy as np\n",
    "import pandas as pd\n",
    "\n",
    "import matplotlib.pyplot as plt\n",
    "import seaborn as sns\n",
    "\n",
    "import warnings\n",
    "warnings.filterwarnings(\"ignore\")\n",
    "\n",
    "%matplotlib inline\n"
   ]
  },
  {
   "cell_type": "code",
   "execution_count": 6,
   "metadata": {},
   "outputs": [
    {
     "data": {
      "text/html": [
       "<div>\n",
       "<style scoped>\n",
       "    .dataframe tbody tr th:only-of-type {\n",
       "        vertical-align: middle;\n",
       "    }\n",
       "\n",
       "    .dataframe tbody tr th {\n",
       "        vertical-align: top;\n",
       "    }\n",
       "\n",
       "    .dataframe thead th {\n",
       "        text-align: right;\n",
       "    }\n",
       "</style>\n",
       "<table border=\"1\" class=\"dataframe\">\n",
       "  <thead>\n",
       "    <tr style=\"text-align: right;\">\n",
       "      <th></th>\n",
       "      <th>store_name</th>\n",
       "      <th>user</th>\n",
       "      <th>rate</th>\n",
       "      <th>avg_rate</th>\n",
       "      <th>review</th>\n",
       "      <th>review_count</th>\n",
       "    </tr>\n",
       "  </thead>\n",
       "  <tbody>\n",
       "    <tr>\n",
       "      <th>0</th>\n",
       "      <td>이도곰탕</td>\n",
       "      <td>굉장해엄청나</td>\n",
       "      <td>5.0</td>\n",
       "      <td>3.6</td>\n",
       "      <td>NaN</td>\n",
       "      <td>434</td>\n",
       "    </tr>\n",
       "    <tr>\n",
       "      <th>1</th>\n",
       "      <td>이도곰탕</td>\n",
       "      <td>컹</td>\n",
       "      <td>2.0</td>\n",
       "      <td>3.0</td>\n",
       "      <td>너무 짜요. 처음엔 먹을만했는데. 절반정도 먹고나선 너무 짜서 짜증날 정도임. 맛 ...</td>\n",
       "      <td>13</td>\n",
       "    </tr>\n",
       "    <tr>\n",
       "      <th>2</th>\n",
       "      <td>이도곰탕</td>\n",
       "      <td>🤠</td>\n",
       "      <td>5.0</td>\n",
       "      <td>4.0</td>\n",
       "      <td>곰탕 정말 빨리나옵니다. 주문하고 5분도 안되서 음식 받은거 같아요. 정말 맛있고 ...</td>\n",
       "      <td>7</td>\n",
       "    </tr>\n",
       "    <tr>\n",
       "      <th>3</th>\n",
       "      <td>이도곰탕</td>\n",
       "      <td>미각세포</td>\n",
       "      <td>5.0</td>\n",
       "      <td>4.0</td>\n",
       "      <td>수육이랑 곰탕먹었어요곰탕은 주문하자마자 빨리 나왔어요고기도 많이 들어가있고간이 되어...</td>\n",
       "      <td>99</td>\n",
       "    </tr>\n",
       "    <tr>\n",
       "      <th>4</th>\n",
       "      <td>이도곰탕</td>\n",
       "      <td>.</td>\n",
       "      <td>5.0</td>\n",
       "      <td>3.7</td>\n",
       "      <td>세종대왕의 이름 (이도 李裪)에 걸맞는 진한 맛의 곰탕입니다마침 제옆에 외국인도 와...</td>\n",
       "      <td>171</td>\n",
       "    </tr>\n",
       "  </tbody>\n",
       "</table>\n",
       "</div>"
      ],
      "text/plain": [
       "  store_name    user  rate  avg_rate  \\\n",
       "0       이도곰탕  굉장해엄청나   5.0       3.6   \n",
       "1       이도곰탕       컹   2.0       3.0   \n",
       "2       이도곰탕       🤠   5.0       4.0   \n",
       "3       이도곰탕    미각세포   5.0       4.0   \n",
       "4       이도곰탕       .   5.0       3.7   \n",
       "\n",
       "                                              review review_count  \n",
       "0                                                NaN          434  \n",
       "1  너무 짜요. 처음엔 먹을만했는데. 절반정도 먹고나선 너무 짜서 짜증날 정도임. 맛 ...           13  \n",
       "2  곰탕 정말 빨리나옵니다. 주문하고 5분도 안되서 음식 받은거 같아요. 정말 맛있고 ...            7  \n",
       "3  수육이랑 곰탕먹었어요곰탕은 주문하자마자 빨리 나왔어요고기도 많이 들어가있고간이 되어...           99  \n",
       "4  세종대왕의 이름 (이도 李裪)에 걸맞는 진한 맛의 곰탕입니다마침 제옆에 외국인도 와...          171  "
      ]
     },
     "execution_count": 6,
     "metadata": {},
     "output_type": "execute_result"
    }
   ],
   "source": [
    "reviews_df = pd.read_csv(\"data/reviews.csv\")\n",
    "reviews_df = reviews_df.rename(columns={\"stoe_name\":\"store_name\"})\n",
    "reviews_df.head()"
   ]
  },
  {
   "cell_type": "code",
   "execution_count": 17,
   "metadata": {},
   "outputs": [
    {
     "data": {
      "text/plain": [
       "(8873, 6)"
      ]
     },
     "execution_count": 17,
     "metadata": {},
     "output_type": "execute_result"
    }
   ],
   "source": [
    "reviews_df.shape"
   ]
  },
  {
   "cell_type": "code",
   "execution_count": 65,
   "metadata": {},
   "outputs": [],
   "source": [
    "reviews_df[\"reg_rate\"] = reviews_df[\"rate\"] / reviews_df[\"avg_rate\"]"
   ]
  },
  {
   "cell_type": "code",
   "execution_count": 66,
   "metadata": {},
   "outputs": [
    {
     "data": {
      "text/html": [
       "<div>\n",
       "<style scoped>\n",
       "    .dataframe tbody tr th:only-of-type {\n",
       "        vertical-align: middle;\n",
       "    }\n",
       "\n",
       "    .dataframe tbody tr th {\n",
       "        vertical-align: top;\n",
       "    }\n",
       "\n",
       "    .dataframe thead th {\n",
       "        text-align: right;\n",
       "    }\n",
       "</style>\n",
       "<table border=\"1\" class=\"dataframe\">\n",
       "  <thead>\n",
       "    <tr style=\"text-align: right;\">\n",
       "      <th></th>\n",
       "      <th>review</th>\n",
       "    </tr>\n",
       "    <tr>\n",
       "      <th>store_name</th>\n",
       "      <th></th>\n",
       "    </tr>\n",
       "  </thead>\n",
       "  <tbody>\n",
       "    <tr>\n",
       "      <th>(주)중앙해장</th>\n",
       "      <td>428</td>\n",
       "    </tr>\n",
       "    <tr>\n",
       "      <th>백억하누</th>\n",
       "      <td>245</td>\n",
       "    </tr>\n",
       "    <tr>\n",
       "      <th>호보식당</th>\n",
       "      <td>240</td>\n",
       "    </tr>\n",
       "    <tr>\n",
       "      <th>갓텐스시강남점</th>\n",
       "      <td>198</td>\n",
       "    </tr>\n",
       "    <tr>\n",
       "      <th>최가네버섯매운탕칼국수</th>\n",
       "      <td>182</td>\n",
       "    </tr>\n",
       "    <tr>\n",
       "      <th>취영루</th>\n",
       "      <td>164</td>\n",
       "    </tr>\n",
       "    <tr>\n",
       "      <th>하루</th>\n",
       "      <td>146</td>\n",
       "    </tr>\n",
       "    <tr>\n",
       "      <th>현 우동</th>\n",
       "      <td>139</td>\n",
       "    </tr>\n",
       "    <tr>\n",
       "      <th>이도곰탕</th>\n",
       "      <td>127</td>\n",
       "    </tr>\n",
       "    <tr>\n",
       "      <th>대가방</th>\n",
       "      <td>127</td>\n",
       "    </tr>\n",
       "  </tbody>\n",
       "</table>\n",
       "</div>"
      ],
      "text/plain": [
       "             review\n",
       "store_name         \n",
       "(주)중앙해장         428\n",
       "백억하누            245\n",
       "호보식당            240\n",
       "갓텐스시강남점         198\n",
       "최가네버섯매운탕칼국수     182\n",
       "취영루             164\n",
       "하루              146\n",
       "현 우동            139\n",
       "이도곰탕            127\n",
       "대가방             127"
      ]
     },
     "execution_count": 66,
     "metadata": {},
     "output_type": "execute_result"
    }
   ],
   "source": [
    "reviews_df.groupby([\"store_name\"])[[\"review\"]].count().sort_values(by=\"review\", ascending=False)[:10]"
   ]
  },
  {
   "cell_type": "code",
   "execution_count": 67,
   "metadata": {},
   "outputs": [
    {
     "data": {
      "text/html": [
       "<div>\n",
       "<style scoped>\n",
       "    .dataframe tbody tr th:only-of-type {\n",
       "        vertical-align: middle;\n",
       "    }\n",
       "\n",
       "    .dataframe tbody tr th {\n",
       "        vertical-align: top;\n",
       "    }\n",
       "\n",
       "    .dataframe thead th {\n",
       "        text-align: right;\n",
       "    }\n",
       "</style>\n",
       "<table border=\"1\" class=\"dataframe\">\n",
       "  <thead>\n",
       "    <tr style=\"text-align: right;\">\n",
       "      <th></th>\n",
       "      <th>store_name</th>\n",
       "      <th>user</th>\n",
       "      <th>rate</th>\n",
       "      <th>avg_rate</th>\n",
       "      <th>review</th>\n",
       "      <th>review_count</th>\n",
       "      <th>reg_rate</th>\n",
       "    </tr>\n",
       "  </thead>\n",
       "  <tbody>\n",
       "    <tr>\n",
       "      <th>6349</th>\n",
       "      <td>(주)중앙해장</td>\n",
       "      <td>💤</td>\n",
       "      <td>4.0</td>\n",
       "      <td>3.0</td>\n",
       "      <td>맛있지만 비쌈…</td>\n",
       "      <td>77</td>\n",
       "      <td>1.333333</td>\n",
       "    </tr>\n",
       "    <tr>\n",
       "      <th>6350</th>\n",
       "      <td>(주)중앙해장</td>\n",
       "      <td>장호철</td>\n",
       "      <td>5.0</td>\n",
       "      <td>4.1</td>\n",
       "      <td>언제나 배신하지 않는 맛</td>\n",
       "      <td>60</td>\n",
       "      <td>1.219512</td>\n",
       "    </tr>\n",
       "    <tr>\n",
       "      <th>6351</th>\n",
       "      <td>(주)중앙해장</td>\n",
       "      <td>miyeh</td>\n",
       "      <td>3.0</td>\n",
       "      <td>4.0</td>\n",
       "      <td>맛은 있지만 이정도 가격은 너무 받아먹는거 같음.. 주차비 지원도 안됨</td>\n",
       "      <td>355</td>\n",
       "      <td>0.750000</td>\n",
       "    </tr>\n",
       "    <tr>\n",
       "      <th>6352</th>\n",
       "      <td>(주)중앙해장</td>\n",
       "      <td>불친절싫어요</td>\n",
       "      <td>5.0</td>\n",
       "      <td>3.2</td>\n",
       "      <td>그냥 맛집</td>\n",
       "      <td>21</td>\n",
       "      <td>1.562500</td>\n",
       "    </tr>\n",
       "    <tr>\n",
       "      <th>6353</th>\n",
       "      <td>(주)중앙해장</td>\n",
       "      <td>김치통</td>\n",
       "      <td>5.0</td>\n",
       "      <td>4.2</td>\n",
       "      <td>별점 높은이유는 다 이유가 있습니다</td>\n",
       "      <td>106</td>\n",
       "      <td>1.190476</td>\n",
       "    </tr>\n",
       "    <tr>\n",
       "      <th>...</th>\n",
       "      <td>...</td>\n",
       "      <td>...</td>\n",
       "      <td>...</td>\n",
       "      <td>...</td>\n",
       "      <td>...</td>\n",
       "      <td>...</td>\n",
       "      <td>...</td>\n",
       "    </tr>\n",
       "    <tr>\n",
       "      <th>6898</th>\n",
       "      <td>(주)중앙해장</td>\n",
       "      <td>류근수</td>\n",
       "      <td>3.0</td>\n",
       "      <td>2.6</td>\n",
       "      <td>선지해장국.</td>\n",
       "      <td>536</td>\n",
       "      <td>1.153846</td>\n",
       "    </tr>\n",
       "    <tr>\n",
       "      <th>6899</th>\n",
       "      <td>(주)중앙해장</td>\n",
       "      <td>맛탐험가</td>\n",
       "      <td>5.0</td>\n",
       "      <td>3.9</td>\n",
       "      <td>NaN</td>\n",
       "      <td>14</td>\n",
       "      <td>1.282051</td>\n",
       "    </tr>\n",
       "    <tr>\n",
       "      <th>6900</th>\n",
       "      <td>(주)중앙해장</td>\n",
       "      <td>ChloepapA</td>\n",
       "      <td>5.0</td>\n",
       "      <td>4.1</td>\n",
       "      <td>NaN</td>\n",
       "      <td>158</td>\n",
       "      <td>1.219512</td>\n",
       "    </tr>\n",
       "    <tr>\n",
       "      <th>6901</th>\n",
       "      <td>(주)중앙해장</td>\n",
       "      <td>파루</td>\n",
       "      <td>5.0</td>\n",
       "      <td>3.1</td>\n",
       "      <td>완전 깔끔하고 맛있음.그동안 먹어본 양선지 해장국 중 거의 최고잡내도 하나 없음</td>\n",
       "      <td>611</td>\n",
       "      <td>1.612903</td>\n",
       "    </tr>\n",
       "    <tr>\n",
       "      <th>6902</th>\n",
       "      <td>(주)중앙해장</td>\n",
       "      <td>골방 베이시스트..</td>\n",
       "      <td>5.0</td>\n",
       "      <td>4.7</td>\n",
       "      <td>좋은 재료로 정면승부한다는느낌. 8천원이라는 가격이 납득이 될 정도로 내장이 듬뿍 ...</td>\n",
       "      <td>60</td>\n",
       "      <td>1.063830</td>\n",
       "    </tr>\n",
       "  </tbody>\n",
       "</table>\n",
       "<p>554 rows × 7 columns</p>\n",
       "</div>"
      ],
      "text/plain": [
       "     store_name        user  rate  avg_rate  \\\n",
       "6349    (주)중앙해장           💤   4.0       3.0   \n",
       "6350    (주)중앙해장         장호철   5.0       4.1   \n",
       "6351    (주)중앙해장       miyeh   3.0       4.0   \n",
       "6352    (주)중앙해장      불친절싫어요   5.0       3.2   \n",
       "6353    (주)중앙해장         김치통   5.0       4.2   \n",
       "...         ...         ...   ...       ...   \n",
       "6898    (주)중앙해장         류근수   3.0       2.6   \n",
       "6899    (주)중앙해장        맛탐험가   5.0       3.9   \n",
       "6900    (주)중앙해장   ChloepapA   5.0       4.1   \n",
       "6901    (주)중앙해장          파루   5.0       3.1   \n",
       "6902    (주)중앙해장  골방 베이시스트..   5.0       4.7   \n",
       "\n",
       "                                                 review  review_count  \\\n",
       "6349                                           맛있지만 비쌈…            77   \n",
       "6350                                      언제나 배신하지 않는 맛            60   \n",
       "6351            맛은 있지만 이정도 가격은 너무 받아먹는거 같음.. 주차비 지원도 안됨           355   \n",
       "6352                                              그냥 맛집            21   \n",
       "6353                                별점 높은이유는 다 이유가 있습니다           106   \n",
       "...                                                 ...           ...   \n",
       "6898                                             선지해장국.           536   \n",
       "6899                                                NaN            14   \n",
       "6900                                                NaN           158   \n",
       "6901       완전 깔끔하고 맛있음.그동안 먹어본 양선지 해장국 중 거의 최고잡내도 하나 없음           611   \n",
       "6902  좋은 재료로 정면승부한다는느낌. 8천원이라는 가격이 납득이 될 정도로 내장이 듬뿍 ...            60   \n",
       "\n",
       "      reg_rate  \n",
       "6349  1.333333  \n",
       "6350  1.219512  \n",
       "6351  0.750000  \n",
       "6352  1.562500  \n",
       "6353  1.190476  \n",
       "...        ...  \n",
       "6898  1.153846  \n",
       "6899  1.282051  \n",
       "6900  1.219512  \n",
       "6901  1.612903  \n",
       "6902  1.063830  \n",
       "\n",
       "[554 rows x 7 columns]"
      ]
     },
     "execution_count": 67,
     "metadata": {},
     "output_type": "execute_result"
    }
   ],
   "source": [
    "reviews_df[reviews_df[\"store_name\"] == \"(주)중앙해장\"]"
   ]
  },
  {
   "cell_type": "code",
   "execution_count": 68,
   "metadata": {},
   "outputs": [
    {
     "data": {
      "text/html": [
       "<div>\n",
       "<style scoped>\n",
       "    .dataframe tbody tr th:only-of-type {\n",
       "        vertical-align: middle;\n",
       "    }\n",
       "\n",
       "    .dataframe tbody tr th {\n",
       "        vertical-align: top;\n",
       "    }\n",
       "\n",
       "    .dataframe thead th {\n",
       "        text-align: right;\n",
       "    }\n",
       "</style>\n",
       "<table border=\"1\" class=\"dataframe\">\n",
       "  <thead>\n",
       "    <tr style=\"text-align: right;\">\n",
       "      <th></th>\n",
       "      <th>store_name</th>\n",
       "      <th>user</th>\n",
       "      <th>rate</th>\n",
       "      <th>avg_rate</th>\n",
       "      <th>review</th>\n",
       "      <th>review_count</th>\n",
       "      <th>reg_rate</th>\n",
       "    </tr>\n",
       "  </thead>\n",
       "  <tbody>\n",
       "    <tr>\n",
       "      <th>120</th>\n",
       "      <td>이도곰탕</td>\n",
       "      <td>NaN</td>\n",
       "      <td>3.0</td>\n",
       "      <td>3.0</td>\n",
       "      <td>NaN</td>\n",
       "      <td>1</td>\n",
       "      <td>1.000000</td>\n",
       "    </tr>\n",
       "    <tr>\n",
       "      <th>433</th>\n",
       "      <td>니뽕내뽕(코엑스점)</td>\n",
       "      <td>NaN</td>\n",
       "      <td>1.0</td>\n",
       "      <td>3.0</td>\n",
       "      <td>같은 니뽕내뽕인데 왜 별점이 낮은건가 의문이 들었는데별점 하나 자체가 너무너무 아깝...</td>\n",
       "      <td>2</td>\n",
       "      <td>0.333333</td>\n",
       "    </tr>\n",
       "    <tr>\n",
       "      <th>496</th>\n",
       "      <td>오발탄(주)오발탄에프에스</td>\n",
       "      <td>NaN</td>\n",
       "      <td>5.0</td>\n",
       "      <td>3.8</td>\n",
       "      <td>가격이사악하지만 그에맛는 퀄과 맛</td>\n",
       "      <td>44</td>\n",
       "      <td>1.315789</td>\n",
       "    </tr>\n",
       "    <tr>\n",
       "      <th>597</th>\n",
       "      <td>수림복국</td>\n",
       "      <td>NaN</td>\n",
       "      <td>3.0</td>\n",
       "      <td>3.7</td>\n",
       "      <td>NaN</td>\n",
       "      <td>3</td>\n",
       "      <td>0.810811</td>\n",
       "    </tr>\n",
       "    <tr>\n",
       "      <th>690</th>\n",
       "      <td>(주)곰바위</td>\n",
       "      <td>NaN</td>\n",
       "      <td>3.0</td>\n",
       "      <td>3.8</td>\n",
       "      <td>NaN</td>\n",
       "      <td>44</td>\n",
       "      <td>0.789474</td>\n",
       "    </tr>\n",
       "    <tr>\n",
       "      <th>1257</th>\n",
       "      <td>송화</td>\n",
       "      <td>NaN</td>\n",
       "      <td>4.0</td>\n",
       "      <td>3.5</td>\n",
       "      <td>NaN</td>\n",
       "      <td>42</td>\n",
       "      <td>1.142857</td>\n",
       "    </tr>\n",
       "    <tr>\n",
       "      <th>1707</th>\n",
       "      <td>구이가</td>\n",
       "      <td>NaN</td>\n",
       "      <td>5.0</td>\n",
       "      <td>5.0</td>\n",
       "      <td>참 맛있었어요</td>\n",
       "      <td>1</td>\n",
       "      <td>1.000000</td>\n",
       "    </tr>\n",
       "    <tr>\n",
       "      <th>1731</th>\n",
       "      <td>구이가</td>\n",
       "      <td>NaN</td>\n",
       "      <td>4.0</td>\n",
       "      <td>4.0</td>\n",
       "      <td>NaN</td>\n",
       "      <td>1</td>\n",
       "      <td>1.000000</td>\n",
       "    </tr>\n",
       "    <tr>\n",
       "      <th>1780</th>\n",
       "      <td>만두의 전설</td>\n",
       "      <td>NaN</td>\n",
       "      <td>5.0</td>\n",
       "      <td>3.0</td>\n",
       "      <td>NaN</td>\n",
       "      <td>2</td>\n",
       "      <td>1.666667</td>\n",
       "    </tr>\n",
       "    <tr>\n",
       "      <th>3139</th>\n",
       "      <td>신의주찹쌀순대</td>\n",
       "      <td>NaN</td>\n",
       "      <td>1.0</td>\n",
       "      <td>1.0</td>\n",
       "      <td>맛은있지만 영업시간 상이하고 더 장사하고자하는 의지가 없음 기본적으로 불친절함  주...</td>\n",
       "      <td>1</td>\n",
       "      <td>1.000000</td>\n",
       "    </tr>\n",
       "    <tr>\n",
       "      <th>3520</th>\n",
       "      <td>코너스톤</td>\n",
       "      <td>NaN</td>\n",
       "      <td>5.0</td>\n",
       "      <td>3.6</td>\n",
       "      <td>NaN</td>\n",
       "      <td>63</td>\n",
       "      <td>1.388889</td>\n",
       "    </tr>\n",
       "    <tr>\n",
       "      <th>3991</th>\n",
       "      <td>현 우동</td>\n",
       "      <td>NaN</td>\n",
       "      <td>1.0</td>\n",
       "      <td>1.0</td>\n",
       "      <td>진짜 너무너무 별로예요 그냥 특색도 없고 짜고 맛없네요. 오픈 할때 가서 웨이팅은 ...</td>\n",
       "      <td>2</td>\n",
       "      <td>1.000000</td>\n",
       "    </tr>\n",
       "    <tr>\n",
       "      <th>4502</th>\n",
       "      <td>(주)도라후구현복집</td>\n",
       "      <td>NaN</td>\n",
       "      <td>4.0</td>\n",
       "      <td>4.0</td>\n",
       "      <td>NaN</td>\n",
       "      <td>1</td>\n",
       "      <td>1.000000</td>\n",
       "    </tr>\n",
       "    <tr>\n",
       "      <th>4640</th>\n",
       "      <td>배정철 어도</td>\n",
       "      <td>NaN</td>\n",
       "      <td>1.0</td>\n",
       "      <td>2.9</td>\n",
       "      <td>NaN</td>\n",
       "      <td>25</td>\n",
       "      <td>0.344828</td>\n",
       "    </tr>\n",
       "    <tr>\n",
       "      <th>6223</th>\n",
       "      <td>청자골</td>\n",
       "      <td>NaN</td>\n",
       "      <td>5.0</td>\n",
       "      <td>5.0</td>\n",
       "      <td>맛있었습니다^^</td>\n",
       "      <td>2</td>\n",
       "      <td>1.000000</td>\n",
       "    </tr>\n",
       "    <tr>\n",
       "      <th>7287</th>\n",
       "      <td>(주)우동명가기리야마본진</td>\n",
       "      <td>NaN</td>\n",
       "      <td>5.0</td>\n",
       "      <td>2.3</td>\n",
       "      <td>면이 진짜 쫄깃하고 맛있어요.</td>\n",
       "      <td>3</td>\n",
       "      <td>2.173913</td>\n",
       "    </tr>\n",
       "    <tr>\n",
       "      <th>8334</th>\n",
       "      <td>미사리밀빛초계국수</td>\n",
       "      <td>NaN</td>\n",
       "      <td>4.0</td>\n",
       "      <td>2.2</td>\n",
       "      <td>맛은 평범한 편인데 직원분들이 친절하셔서 기억에 남아요.</td>\n",
       "      <td>25</td>\n",
       "      <td>1.818182</td>\n",
       "    </tr>\n",
       "  </tbody>\n",
       "</table>\n",
       "</div>"
      ],
      "text/plain": [
       "         store_name user  rate  avg_rate  \\\n",
       "120            이도곰탕  NaN   3.0       3.0   \n",
       "433      니뽕내뽕(코엑스점)  NaN   1.0       3.0   \n",
       "496   오발탄(주)오발탄에프에스  NaN   5.0       3.8   \n",
       "597            수림복국  NaN   3.0       3.7   \n",
       "690          (주)곰바위  NaN   3.0       3.8   \n",
       "1257             송화  NaN   4.0       3.5   \n",
       "1707            구이가  NaN   5.0       5.0   \n",
       "1731            구이가  NaN   4.0       4.0   \n",
       "1780         만두의 전설  NaN   5.0       3.0   \n",
       "3139        신의주찹쌀순대  NaN   1.0       1.0   \n",
       "3520           코너스톤  NaN   5.0       3.6   \n",
       "3991           현 우동  NaN   1.0       1.0   \n",
       "4502     (주)도라후구현복집  NaN   4.0       4.0   \n",
       "4640         배정철 어도  NaN   1.0       2.9   \n",
       "6223            청자골  NaN   5.0       5.0   \n",
       "7287  (주)우동명가기리야마본진  NaN   5.0       2.3   \n",
       "8334      미사리밀빛초계국수  NaN   4.0       2.2   \n",
       "\n",
       "                                                 review  review_count  \\\n",
       "120                                                 NaN             1   \n",
       "433   같은 니뽕내뽕인데 왜 별점이 낮은건가 의문이 들었는데별점 하나 자체가 너무너무 아깝...             2   \n",
       "496                                  가격이사악하지만 그에맛는 퀄과 맛            44   \n",
       "597                                                 NaN             3   \n",
       "690                                                 NaN            44   \n",
       "1257                                                NaN            42   \n",
       "1707                                            참 맛있었어요             1   \n",
       "1731                                                NaN             1   \n",
       "1780                                                NaN             2   \n",
       "3139  맛은있지만 영업시간 상이하고 더 장사하고자하는 의지가 없음 기본적으로 불친절함  주...             1   \n",
       "3520                                                NaN            63   \n",
       "3991  진짜 너무너무 별로예요 그냥 특색도 없고 짜고 맛없네요. 오픈 할때 가서 웨이팅은 ...             2   \n",
       "4502                                                NaN             1   \n",
       "4640                                                NaN            25   \n",
       "6223                                           맛있었습니다^^             2   \n",
       "7287                                   면이 진짜 쫄깃하고 맛있어요.             3   \n",
       "8334                    맛은 평범한 편인데 직원분들이 친절하셔서 기억에 남아요.            25   \n",
       "\n",
       "      reg_rate  \n",
       "120   1.000000  \n",
       "433   0.333333  \n",
       "496   1.315789  \n",
       "597   0.810811  \n",
       "690   0.789474  \n",
       "1257  1.142857  \n",
       "1707  1.000000  \n",
       "1731  1.000000  \n",
       "1780  1.666667  \n",
       "3139  1.000000  \n",
       "3520  1.388889  \n",
       "3991  1.000000  \n",
       "4502  1.000000  \n",
       "4640  0.344828  \n",
       "6223  1.000000  \n",
       "7287  2.173913  \n",
       "8334  1.818182  "
      ]
     },
     "execution_count": 68,
     "metadata": {},
     "output_type": "execute_result"
    }
   ],
   "source": [
    "reviews_df[reviews_df.user.isna()]"
   ]
  },
  {
   "cell_type": "markdown",
   "metadata": {},
   "source": [
    "### 가설검정"
   ]
  },
  {
   "cell_type": "markdown",
   "metadata": {},
   "source": [
    "#### 1. 내용 없이 별점만 매긴 사람과 내용을 적은 사람의 평균이 차이가 있을까?\n",
    "- 귀무가설 : 내용 없이 별점만 매긴 사람과 내용을 적은 사람의 평균이 차이가 없다\n",
    "- 대립가설 : 내용 없이 별점만 매긴 사람과 내용을 적은 사람의 평균이 차이가 있다"
   ]
  },
  {
   "cell_type": "code",
   "execution_count": 69,
   "metadata": {},
   "outputs": [],
   "source": [
    "# 통계적 검정 레퍼런스 \n",
    "# https://recipesds.tistory.com/entry/%EC%96%B4%EB%94%94%EC%97%90-%EC%96%B4%EB%96%A4-%EB%AA%A8%EC%88%98-%EA%B2%80%EC%A0%95%EA%B3%BC-%EB%B9%84%EB%AA%A8%EC%88%98-%EA%B2%80%EC%A0%95%EC%9D%84-%EC%93%B8-%EC%88%98-%EC%9E%88%EB%8A%94%EC%A7%80-%EB%8C%80%ED%83%90%ED%97%98-%EA%B7%B8%EB%A6%AC%EA%B3%A0-%ED%8C%8C%EC%9D%B4%EC%8D%AC"
   ]
  },
  {
   "cell_type": "code",
   "execution_count": 70,
   "metadata": {},
   "outputs": [
    {
     "data": {
      "text/plain": [
       "4.0027352297593"
      ]
     },
     "execution_count": 70,
     "metadata": {},
     "output_type": "execute_result"
    }
   ],
   "source": [
    "\n",
    "np.mean(reviews_df[reviews_df.review.isna()][\"rate\"])\n"
   ]
  },
  {
   "cell_type": "code",
   "execution_count": 71,
   "metadata": {},
   "outputs": [
    {
     "data": {
      "text/plain": [
       "3.672391767210788"
      ]
     },
     "execution_count": 71,
     "metadata": {},
     "output_type": "execute_result"
    }
   ],
   "source": [
    "np.mean(reviews_df[reviews_df.review.notnull()][\"rate\"])\n"
   ]
  },
  {
   "cell_type": "code",
   "execution_count": 72,
   "metadata": {},
   "outputs": [
    {
     "data": {
      "text/plain": [
       "MannwhitneyuResult(statistic=6865741.0, pvalue=3.7630157178579584e-06)"
      ]
     },
     "execution_count": 72,
     "metadata": {},
     "output_type": "execute_result"
    }
   ],
   "source": [
    "from scipy import stats\n",
    "\n",
    "no_review = reviews_df[reviews_df.review.isna()][\"rate\"]\n",
    "yes_review = reviews_df[reviews_df.review.notnull()][\"rate\"]\n",
    "\n",
    "stats.mannwhitneyu(no_review, yes_review)"
   ]
  },
  {
   "cell_type": "code",
   "execution_count": 73,
   "metadata": {},
   "outputs": [],
   "source": [
    "no_review_reg = reviews_df[reviews_df.review.isna()][\"reg_rate\"]\n",
    "yes_review_reg = reviews_df[reviews_df.review.notnull()][\"reg_rate\"]"
   ]
  },
  {
   "cell_type": "code",
   "execution_count": 77,
   "metadata": {},
   "outputs": [
    {
     "data": {
      "text/plain": [
       "<Axes: xlabel='reg_rate', ylabel='Count'>"
      ]
     },
     "execution_count": 77,
     "metadata": {},
     "output_type": "execute_result"
    },
    {
     "data": {
      "image/png": "[encoded data removed]",
      "text/plain": [
       "<Figure size 640x480 with 1 Axes>"
      ]
     },
     "metadata": {},
     "output_type": "display_data"
    }
   ],
   "source": [
    "sns.histplot(no_review_reg, kde=True)"
   ]
  },
  {
   "cell_type": "code",
   "execution_count": 78,
   "metadata": {},
   "outputs": [
    {
     "data": {
      "text/plain": [
       "<Axes: xlabel='reg_rate', ylabel='Count'>"
      ]
     },
     "execution_count": 78,
     "metadata": {},
     "output_type": "execute_result"
    },
    {
     "data": {
      "image/png": "[encoded data removed]",
      "text/plain": [
       "<Figure size 640x480 with 1 Axes>"
      ]
     },
     "metadata": {},
     "output_type": "display_data"
    }
   ],
   "source": [
    "sns.histplot(yes_review_reg, kde=True)\n"
   ]
  },
  {
   "cell_type": "code",
   "execution_count": 74,
   "metadata": {},
   "outputs": [
    {
     "data": {
      "text/plain": [
       "ShapiroResult(statistic=0.9353502075457881, pvalue=1.8205085342715463e-27)"
      ]
     },
     "execution_count": 74,
     "metadata": {},
     "output_type": "execute_result"
    }
   ],
   "source": [
    "stats.shapiro(no_review_reg)"
   ]
  },
  {
   "cell_type": "code",
   "execution_count": 75,
   "metadata": {},
   "outputs": [
    {
     "data": {
      "text/plain": [
       "ShapiroResult(statistic=0.9221222878482117, pvalue=4.128664761159962e-51)"
      ]
     },
     "execution_count": 75,
     "metadata": {},
     "output_type": "execute_result"
    }
   ],
   "source": [
    "stats.shapiro(yes_review_reg)\n"
   ]
  },
  {
   "cell_type": "markdown",
   "metadata": {},
   "source": [
    "##### 결론\n",
    "- p-value < 0.05 : 귀무가설 기각\n",
    "    - 리뷰를 쓴 집단과 쓰지 않은 집단의 평균 평점에는 차이가 존재할 수 있다\n",
    "    - 귀무가설이 통계적으로 유의하지 않다"
   ]
  },
  {
   "cell_type": "markdown",
   "metadata": {},
   "source": [
    "#### 2. 리뷰 개수는 평균 평점과 연관이 있을까?\n",
    "- 귀무가설 : 중위값보다 리뷰 개수를 적게 쓰는 집단과 많이 쓰는 집단의 평균 평점 차이가 없다\n",
    "- 대립가설 : 중위값보다 리뷰 개수를 적게 쓰는 집단과 많이 쓰는 집단의 평균 평점 차이가 있다"
   ]
  },
  {
   "cell_type": "code",
   "execution_count": 32,
   "metadata": {},
   "outputs": [
    {
     "name": "stdout",
     "output_type": "stream",
     "text": [
      "<class 'pandas.core.frame.DataFrame'>\n",
      "RangeIndex: 8873 entries, 0 to 8872\n",
      "Data columns (total 6 columns):\n",
      " #   Column        Non-Null Count  Dtype  \n",
      "---  ------        --------------  -----  \n",
      " 0   store_name    8873 non-null   object \n",
      " 1   user          8856 non-null   object \n",
      " 2   rate          8873 non-null   float64\n",
      " 3   avg_rate      8873 non-null   float64\n",
      " 4   review        7045 non-null   object \n",
      " 5   review_count  8873 non-null   object \n",
      "dtypes: float64(2), object(4)\n",
      "memory usage: 416.0+ KB\n"
     ]
    }
   ],
   "source": [
    "reviews_df.info()"
   ]
  },
  {
   "cell_type": "code",
   "execution_count": 42,
   "metadata": {},
   "outputs": [],
   "source": [
    "reviews_df[\"review_count\"] = reviews_df[\"review_count\"].str.replace(\",\",\"\").astype(\"int\")"
   ]
  },
  {
   "cell_type": "code",
   "execution_count": 44,
   "metadata": {},
   "outputs": [],
   "source": [
    "reviews_df[\"review_count\"] = reviews_df[\"review_count\"].astype(\"int\")"
   ]
  },
  {
   "cell_type": "code",
   "execution_count": 45,
   "metadata": {},
   "outputs": [
    {
     "data": {
      "text/html": [
       "<div>\n",
       "<style scoped>\n",
       "    .dataframe tbody tr th:only-of-type {\n",
       "        vertical-align: middle;\n",
       "    }\n",
       "\n",
       "    .dataframe tbody tr th {\n",
       "        vertical-align: top;\n",
       "    }\n",
       "\n",
       "    .dataframe thead th {\n",
       "        text-align: right;\n",
       "    }\n",
       "</style>\n",
       "<table border=\"1\" class=\"dataframe\">\n",
       "  <thead>\n",
       "    <tr style=\"text-align: right;\">\n",
       "      <th></th>\n",
       "      <th>rate</th>\n",
       "      <th>avg_rate</th>\n",
       "      <th>review_count</th>\n",
       "    </tr>\n",
       "  </thead>\n",
       "  <tbody>\n",
       "    <tr>\n",
       "      <th>count</th>\n",
       "      <td>8873.000000</td>\n",
       "      <td>8873.000000</td>\n",
       "      <td>8873.000000</td>\n",
       "    </tr>\n",
       "    <tr>\n",
       "      <th>mean</th>\n",
       "      <td>3.740449</td>\n",
       "      <td>3.793666</td>\n",
       "      <td>167.465232</td>\n",
       "    </tr>\n",
       "    <tr>\n",
       "      <th>std</th>\n",
       "      <td>1.465998</td>\n",
       "      <td>0.947893</td>\n",
       "      <td>582.338960</td>\n",
       "    </tr>\n",
       "    <tr>\n",
       "      <th>min</th>\n",
       "      <td>1.000000</td>\n",
       "      <td>1.000000</td>\n",
       "      <td>1.000000</td>\n",
       "    </tr>\n",
       "    <tr>\n",
       "      <th>25%</th>\n",
       "      <td>3.000000</td>\n",
       "      <td>3.300000</td>\n",
       "      <td>8.000000</td>\n",
       "    </tr>\n",
       "    <tr>\n",
       "      <th>50%</th>\n",
       "      <td>4.000000</td>\n",
       "      <td>3.900000</td>\n",
       "      <td>33.000000</td>\n",
       "    </tr>\n",
       "    <tr>\n",
       "      <th>75%</th>\n",
       "      <td>5.000000</td>\n",
       "      <td>4.500000</td>\n",
       "      <td>121.000000</td>\n",
       "    </tr>\n",
       "    <tr>\n",
       "      <th>max</th>\n",
       "      <td>5.000000</td>\n",
       "      <td>5.000000</td>\n",
       "      <td>8538.000000</td>\n",
       "    </tr>\n",
       "  </tbody>\n",
       "</table>\n",
       "</div>"
      ],
      "text/plain": [
       "              rate     avg_rate  review_count\n",
       "count  8873.000000  8873.000000   8873.000000\n",
       "mean      3.740449     3.793666    167.465232\n",
       "std       1.465998     0.947893    582.338960\n",
       "min       1.000000     1.000000      1.000000\n",
       "25%       3.000000     3.300000      8.000000\n",
       "50%       4.000000     3.900000     33.000000\n",
       "75%       5.000000     4.500000    121.000000\n",
       "max       5.000000     5.000000   8538.000000"
      ]
     },
     "execution_count": 45,
     "metadata": {},
     "output_type": "execute_result"
    }
   ],
   "source": [
    "reviews_df.describe()"
   ]
  },
  {
   "cell_type": "code",
   "execution_count": 63,
   "metadata": {},
   "outputs": [
    {
     "data": {
      "text/plain": [
       "MannwhitneyuResult(statistic=10809879.5, pvalue=2.0117173561944988e-17)"
      ]
     },
     "execution_count": 63,
     "metadata": {},
     "output_type": "execute_result"
    }
   ],
   "source": [
    "less = reviews_df[reviews_df[\"review_count\"] < np.median(reviews_df[\"review_count\"])][\"rate\"]\n",
    "more = reviews_df[reviews_df[\"review_count\"] >= np.median(reviews_df[\"review_count\"])][\"rate\"]\n",
    "\n",
    "stats.mannwhitneyu(less, more,\n",
    "                #    alternative=\"greater\"\n",
    "                   )"
   ]
  },
  {
   "cell_type": "markdown",
   "metadata": {},
   "source": [
    "##### 결론\n",
    "- p-value < 0.05 : 귀무가설 기각\n",
    "    - 중위값보다 리뷰 개수를 적게 쓰는 집단과 많이 쓰는 집단의 평균 평점 차이가 있다고 볼 수 있다\n",
    "    - 귀무가설이 통계적으로 유의하지 않다"
   ]
  },
  {
   "cell_type": "code",
   "execution_count": null,
   "metadata": {},
   "outputs": [],
   "source": []
  },
  {
   "cell_type": "markdown",
   "metadata": {},
   "source": [
    "## EDA"
   ]
  },
  {
   "cell_type": "code",
   "execution_count": null,
   "metadata": {},
   "outputs": [],
   "source": []
  },
  {
   "cell_type": "code",
   "execution_count": 79,
   "metadata": {},
   "outputs": [
    {
     "data": {
      "text/html": [
       "<div>\n",
       "<style scoped>\n",
       "    .dataframe tbody tr th:only-of-type {\n",
       "        vertical-align: middle;\n",
       "    }\n",
       "\n",
       "    .dataframe tbody tr th {\n",
       "        vertical-align: top;\n",
       "    }\n",
       "\n",
       "    .dataframe thead th {\n",
       "        text-align: right;\n",
       "    }\n",
       "</style>\n",
       "<table border=\"1\" class=\"dataframe\">\n",
       "  <thead>\n",
       "    <tr style=\"text-align: right;\">\n",
       "      <th></th>\n",
       "      <th>store_name</th>\n",
       "      <th>user</th>\n",
       "      <th>rate</th>\n",
       "      <th>avg_rate</th>\n",
       "      <th>review</th>\n",
       "      <th>review_count</th>\n",
       "      <th>reg_rate</th>\n",
       "    </tr>\n",
       "  </thead>\n",
       "  <tbody>\n",
       "    <tr>\n",
       "      <th>0</th>\n",
       "      <td>이도곰탕</td>\n",
       "      <td>굉장해엄청나</td>\n",
       "      <td>5.0</td>\n",
       "      <td>3.6</td>\n",
       "      <td>NaN</td>\n",
       "      <td>434</td>\n",
       "      <td>1.388889</td>\n",
       "    </tr>\n",
       "    <tr>\n",
       "      <th>1</th>\n",
       "      <td>이도곰탕</td>\n",
       "      <td>컹</td>\n",
       "      <td>2.0</td>\n",
       "      <td>3.0</td>\n",
       "      <td>너무 짜요. 처음엔 먹을만했는데. 절반정도 먹고나선 너무 짜서 짜증날 정도임. 맛 ...</td>\n",
       "      <td>13</td>\n",
       "      <td>0.666667</td>\n",
       "    </tr>\n",
       "    <tr>\n",
       "      <th>2</th>\n",
       "      <td>이도곰탕</td>\n",
       "      <td>🤠</td>\n",
       "      <td>5.0</td>\n",
       "      <td>4.0</td>\n",
       "      <td>곰탕 정말 빨리나옵니다. 주문하고 5분도 안되서 음식 받은거 같아요. 정말 맛있고 ...</td>\n",
       "      <td>7</td>\n",
       "      <td>1.250000</td>\n",
       "    </tr>\n",
       "    <tr>\n",
       "      <th>3</th>\n",
       "      <td>이도곰탕</td>\n",
       "      <td>미각세포</td>\n",
       "      <td>5.0</td>\n",
       "      <td>4.0</td>\n",
       "      <td>수육이랑 곰탕먹었어요곰탕은 주문하자마자 빨리 나왔어요고기도 많이 들어가있고간이 되어...</td>\n",
       "      <td>99</td>\n",
       "      <td>1.250000</td>\n",
       "    </tr>\n",
       "    <tr>\n",
       "      <th>4</th>\n",
       "      <td>이도곰탕</td>\n",
       "      <td>.</td>\n",
       "      <td>5.0</td>\n",
       "      <td>3.7</td>\n",
       "      <td>세종대왕의 이름 (이도 李裪)에 걸맞는 진한 맛의 곰탕입니다마침 제옆에 외국인도 와...</td>\n",
       "      <td>171</td>\n",
       "      <td>1.351351</td>\n",
       "    </tr>\n",
       "  </tbody>\n",
       "</table>\n",
       "</div>"
      ],
      "text/plain": [
       "  store_name    user  rate  avg_rate  \\\n",
       "0       이도곰탕  굉장해엄청나   5.0       3.6   \n",
       "1       이도곰탕       컹   2.0       3.0   \n",
       "2       이도곰탕       🤠   5.0       4.0   \n",
       "3       이도곰탕    미각세포   5.0       4.0   \n",
       "4       이도곰탕       .   5.0       3.7   \n",
       "\n",
       "                                              review  review_count  reg_rate  \n",
       "0                                                NaN           434  1.388889  \n",
       "1  너무 짜요. 처음엔 먹을만했는데. 절반정도 먹고나선 너무 짜서 짜증날 정도임. 맛 ...            13  0.666667  \n",
       "2  곰탕 정말 빨리나옵니다. 주문하고 5분도 안되서 음식 받은거 같아요. 정말 맛있고 ...             7  1.250000  \n",
       "3  수육이랑 곰탕먹었어요곰탕은 주문하자마자 빨리 나왔어요고기도 많이 들어가있고간이 되어...            99  1.250000  \n",
       "4  세종대왕의 이름 (이도 李裪)에 걸맞는 진한 맛의 곰탕입니다마침 제옆에 외국인도 와...           171  1.351351  "
      ]
     },
     "execution_count": 79,
     "metadata": {},
     "output_type": "execute_result"
    }
   ],
   "source": [
    "reviews_df.head()"
   ]
  },
  {
   "cell_type": "code",
   "execution_count": 86,
   "metadata": {},
   "outputs": [
    {
     "data": {
      "text/html": [
       "<div>\n",
       "<style scoped>\n",
       "    .dataframe tbody tr th:only-of-type {\n",
       "        vertical-align: middle;\n",
       "    }\n",
       "\n",
       "    .dataframe tbody tr th {\n",
       "        vertical-align: top;\n",
       "    }\n",
       "\n",
       "    .dataframe thead tr th {\n",
       "        text-align: left;\n",
       "    }\n",
       "</style>\n",
       "<table border=\"1\" class=\"dataframe\">\n",
       "  <thead>\n",
       "    <tr>\n",
       "      <th></th>\n",
       "      <th colspan=\"2\" halign=\"left\">reg_rate</th>\n",
       "    </tr>\n",
       "    <tr>\n",
       "      <th></th>\n",
       "      <th>count</th>\n",
       "      <th>mean</th>\n",
       "    </tr>\n",
       "  </thead>\n",
       "  <tbody>\n",
       "    <tr>\n",
       "      <th>count</th>\n",
       "      <td>244.000000</td>\n",
       "      <td>244.000000</td>\n",
       "    </tr>\n",
       "    <tr>\n",
       "      <th>mean</th>\n",
       "      <td>36.364754</td>\n",
       "      <td>0.971180</td>\n",
       "    </tr>\n",
       "    <tr>\n",
       "      <th>std</th>\n",
       "      <td>54.611103</td>\n",
       "      <td>0.159083</td>\n",
       "    </tr>\n",
       "    <tr>\n",
       "      <th>min</th>\n",
       "      <td>1.000000</td>\n",
       "      <td>0.270270</td>\n",
       "    </tr>\n",
       "    <tr>\n",
       "      <th>25%</th>\n",
       "      <td>10.000000</td>\n",
       "      <td>0.889286</td>\n",
       "    </tr>\n",
       "    <tr>\n",
       "      <th>50%</th>\n",
       "      <td>21.500000</td>\n",
       "      <td>0.984625</td>\n",
       "    </tr>\n",
       "    <tr>\n",
       "      <th>75%</th>\n",
       "      <td>40.000000</td>\n",
       "      <td>1.074669</td>\n",
       "    </tr>\n",
       "    <tr>\n",
       "      <th>max</th>\n",
       "      <td>554.000000</td>\n",
       "      <td>1.362873</td>\n",
       "    </tr>\n",
       "  </tbody>\n",
       "</table>\n",
       "</div>"
      ],
      "text/plain": [
       "         reg_rate            \n",
       "            count        mean\n",
       "count  244.000000  244.000000\n",
       "mean    36.364754    0.971180\n",
       "std     54.611103    0.159083\n",
       "min      1.000000    0.270270\n",
       "25%     10.000000    0.889286\n",
       "50%     21.500000    0.984625\n",
       "75%     40.000000    1.074669\n",
       "max    554.000000    1.362873"
      ]
     },
     "execution_count": 86,
     "metadata": {},
     "output_type": "execute_result"
    }
   ],
   "source": [
    "reviews_df.groupby([\"store_name\"]).agg({\"reg_rate\":[\"count\", \"mean\"]}).sort_values((\"reg_rate\", \"mean\"), ascending=False).describe()"
   ]
  },
  {
   "cell_type": "code",
   "execution_count": 85,
   "metadata": {},
   "outputs": [
    {
     "data": {
      "text/html": [
       "<div>\n",
       "<style scoped>\n",
       "    .dataframe tbody tr th:only-of-type {\n",
       "        vertical-align: middle;\n",
       "    }\n",
       "\n",
       "    .dataframe tbody tr th {\n",
       "        vertical-align: top;\n",
       "    }\n",
       "\n",
       "    .dataframe thead tr th {\n",
       "        text-align: left;\n",
       "    }\n",
       "\n",
       "    .dataframe thead tr:last-of-type th {\n",
       "        text-align: right;\n",
       "    }\n",
       "</style>\n",
       "<table border=\"1\" class=\"dataframe\">\n",
       "  <thead>\n",
       "    <tr>\n",
       "      <th></th>\n",
       "      <th colspan=\"2\" halign=\"left\">reg_rate</th>\n",
       "    </tr>\n",
       "    <tr>\n",
       "      <th></th>\n",
       "      <th>count</th>\n",
       "      <th>mean</th>\n",
       "    </tr>\n",
       "    <tr>\n",
       "      <th>store_name</th>\n",
       "      <th></th>\n",
       "      <th></th>\n",
       "    </tr>\n",
       "  </thead>\n",
       "  <tbody>\n",
       "    <tr>\n",
       "      <th>청담항</th>\n",
       "      <td>9</td>\n",
       "      <td>1.362873</td>\n",
       "    </tr>\n",
       "    <tr>\n",
       "      <th>만두의 전설</th>\n",
       "      <td>30</td>\n",
       "      <td>1.338145</td>\n",
       "    </tr>\n",
       "    <tr>\n",
       "      <th>하꼬네</th>\n",
       "      <td>9</td>\n",
       "      <td>1.312047</td>\n",
       "    </tr>\n",
       "    <tr>\n",
       "      <th>국민한우집 삼성역점(구 칠프로칠백식당 포스코점)</th>\n",
       "      <td>9</td>\n",
       "      <td>1.309440</td>\n",
       "    </tr>\n",
       "    <tr>\n",
       "      <th>직화전문점 미스터 왕왕</th>\n",
       "      <td>13</td>\n",
       "      <td>1.299103</td>\n",
       "    </tr>\n",
       "    <tr>\n",
       "      <th>리미티드 하누 Limited HANU</th>\n",
       "      <td>8</td>\n",
       "      <td>1.291808</td>\n",
       "    </tr>\n",
       "    <tr>\n",
       "      <th>바다풍경</th>\n",
       "      <td>5</td>\n",
       "      <td>1.265943</td>\n",
       "    </tr>\n",
       "    <tr>\n",
       "      <th>봉추찜닭압구정로데오점</th>\n",
       "      <td>9</td>\n",
       "      <td>1.254523</td>\n",
       "    </tr>\n",
       "    <tr>\n",
       "      <th>순대실록 삼성역점</th>\n",
       "      <td>4</td>\n",
       "      <td>1.223605</td>\n",
       "    </tr>\n",
       "    <tr>\n",
       "      <th>닭갈비두목</th>\n",
       "      <td>22</td>\n",
       "      <td>1.210949</td>\n",
       "    </tr>\n",
       "    <tr>\n",
       "      <th>한국돈거래소</th>\n",
       "      <td>7</td>\n",
       "      <td>1.209482</td>\n",
       "    </tr>\n",
       "    <tr>\n",
       "      <th>린카</th>\n",
       "      <td>5</td>\n",
       "      <td>1.203760</td>\n",
       "    </tr>\n",
       "    <tr>\n",
       "      <th>별난횟집 역삼직영점</th>\n",
       "      <td>6</td>\n",
       "      <td>1.201327</td>\n",
       "    </tr>\n",
       "    <tr>\n",
       "      <th>봉평착한메밀</th>\n",
       "      <td>25</td>\n",
       "      <td>1.195708</td>\n",
       "    </tr>\n",
       "    <tr>\n",
       "      <th>육갑식당</th>\n",
       "      <td>25</td>\n",
       "      <td>1.193545</td>\n",
       "    </tr>\n",
       "    <tr>\n",
       "      <th>황소곱창</th>\n",
       "      <td>16</td>\n",
       "      <td>1.176057</td>\n",
       "    </tr>\n",
       "    <tr>\n",
       "      <th>브래서리</th>\n",
       "      <td>38</td>\n",
       "      <td>1.172727</td>\n",
       "    </tr>\n",
       "    <tr>\n",
       "      <th>최가네버섯매운탕칼국수</th>\n",
       "      <td>228</td>\n",
       "      <td>1.169530</td>\n",
       "    </tr>\n",
       "    <tr>\n",
       "      <th>쭈불앤쭈불</th>\n",
       "      <td>17</td>\n",
       "      <td>1.167476</td>\n",
       "    </tr>\n",
       "    <tr>\n",
       "      <th>삼식이감자탕</th>\n",
       "      <td>13</td>\n",
       "      <td>1.167013</td>\n",
       "    </tr>\n",
       "  </tbody>\n",
       "</table>\n",
       "</div>"
      ],
      "text/plain": [
       "                           reg_rate          \n",
       "                              count      mean\n",
       "store_name                                   \n",
       "청담항                               9  1.362873\n",
       "만두의 전설                           30  1.338145\n",
       "하꼬네                               9  1.312047\n",
       "국민한우집 삼성역점(구 칠프로칠백식당 포스코점)        9  1.309440\n",
       "직화전문점 미스터 왕왕                     13  1.299103\n",
       "리미티드 하누 Limited HANU              8  1.291808\n",
       "바다풍경                              5  1.265943\n",
       "봉추찜닭압구정로데오점                       9  1.254523\n",
       "순대실록 삼성역점                         4  1.223605\n",
       "닭갈비두목                            22  1.210949\n",
       "한국돈거래소                            7  1.209482\n",
       "린카                                5  1.203760\n",
       "별난횟집 역삼직영점                        6  1.201327\n",
       "봉평착한메밀                           25  1.195708\n",
       "육갑식당                             25  1.193545\n",
       "황소곱창                             16  1.176057\n",
       "브래서리                             38  1.172727\n",
       "최가네버섯매운탕칼국수                     228  1.169530\n",
       "쭈불앤쭈불                            17  1.167476\n",
       "삼식이감자탕                           13  1.167013"
      ]
     },
     "execution_count": 85,
     "metadata": {},
     "output_type": "execute_result"
    }
   ],
   "source": [
    "reviews_df.groupby([\"store_name\"]).agg({\"reg_rate\":[\"count\", \"mean\"]}).sort_values((\"reg_rate\", \"mean\"), ascending=False)[:20]"
   ]
  },
  {
   "cell_type": "code",
   "execution_count": 106,
   "metadata": {},
   "outputs": [
    {
     "data": {
      "text/html": [
       "<div>\n",
       "<style scoped>\n",
       "    .dataframe tbody tr th:only-of-type {\n",
       "        vertical-align: middle;\n",
       "    }\n",
       "\n",
       "    .dataframe tbody tr th {\n",
       "        vertical-align: top;\n",
       "    }\n",
       "\n",
       "    .dataframe thead tr th {\n",
       "        text-align: left;\n",
       "    }\n",
       "\n",
       "    .dataframe thead tr:last-of-type th {\n",
       "        text-align: right;\n",
       "    }\n",
       "</style>\n",
       "<table border=\"1\" class=\"dataframe\">\n",
       "  <thead>\n",
       "    <tr>\n",
       "      <th></th>\n",
       "      <th colspan=\"2\" halign=\"left\">reg_rate</th>\n",
       "    </tr>\n",
       "    <tr>\n",
       "      <th></th>\n",
       "      <th>count</th>\n",
       "      <th>gmean</th>\n",
       "    </tr>\n",
       "    <tr>\n",
       "      <th>store_name</th>\n",
       "      <th></th>\n",
       "      <th></th>\n",
       "    </tr>\n",
       "  </thead>\n",
       "  <tbody>\n",
       "    <tr>\n",
       "      <th>(주)곰바위</th>\n",
       "      <td>16</td>\n",
       "      <td>0.916727</td>\n",
       "    </tr>\n",
       "    <tr>\n",
       "      <th>(주)닭으로가</th>\n",
       "      <td>64</td>\n",
       "      <td>0.744939</td>\n",
       "    </tr>\n",
       "    <tr>\n",
       "      <th>(주)도라후구현복집</th>\n",
       "      <td>16</td>\n",
       "      <td>1.043429</td>\n",
       "    </tr>\n",
       "    <tr>\n",
       "      <th>(주)아구본가첨벙대치</th>\n",
       "      <td>20</td>\n",
       "      <td>0.872518</td>\n",
       "    </tr>\n",
       "    <tr>\n",
       "      <th>(주)아리양</th>\n",
       "      <td>29</td>\n",
       "      <td>1.073360</td>\n",
       "    </tr>\n",
       "    <tr>\n",
       "      <th>...</th>\n",
       "      <td>...</td>\n",
       "      <td>...</td>\n",
       "    </tr>\n",
       "    <tr>\n",
       "      <th>호보식당</th>\n",
       "      <td>244</td>\n",
       "      <td>0.928618</td>\n",
       "    </tr>\n",
       "    <tr>\n",
       "      <th>홍백</th>\n",
       "      <td>25</td>\n",
       "      <td>0.949198</td>\n",
       "    </tr>\n",
       "    <tr>\n",
       "      <th>홍영재 장수 청국장</th>\n",
       "      <td>30</td>\n",
       "      <td>0.966217</td>\n",
       "    </tr>\n",
       "    <tr>\n",
       "      <th>화기애애(강남1호점)</th>\n",
       "      <td>47</td>\n",
       "      <td>0.857851</td>\n",
       "    </tr>\n",
       "    <tr>\n",
       "      <th>황소곱창</th>\n",
       "      <td>16</td>\n",
       "      <td>1.124980</td>\n",
       "    </tr>\n",
       "  </tbody>\n",
       "</table>\n",
       "<p>182 rows × 2 columns</p>\n",
       "</div>"
      ],
      "text/plain": [
       "            reg_rate          \n",
       "               count     gmean\n",
       "store_name                    \n",
       "(주)곰바위            16  0.916727\n",
       "(주)닭으로가           64  0.744939\n",
       "(주)도라후구현복집        16  1.043429\n",
       "(주)아구본가첨벙대치       20  0.872518\n",
       "(주)아리양            29  1.073360\n",
       "...              ...       ...\n",
       "호보식당             244  0.928618\n",
       "홍백                25  0.949198\n",
       "홍영재 장수 청국장        30  0.966217\n",
       "화기애애(강남1호점)       47  0.857851\n",
       "황소곱창              16  1.124980\n",
       "\n",
       "[182 rows x 2 columns]"
      ]
     },
     "execution_count": 106,
     "metadata": {},
     "output_type": "execute_result"
    }
   ],
   "source": [
    "aa = reviews_df.groupby([\"store_name\"]).agg({\"reg_rate\":[\"count\", stats.gmean]})\n",
    "over_10 = aa[aa[\"reg_rate\"][\"count\"] > 10]\n",
    "over_10"
   ]
  },
  {
   "cell_type": "code",
   "execution_count": 109,
   "metadata": {},
   "outputs": [
    {
     "data": {
      "text/plain": [
       "1.2921937899790994"
      ]
     },
     "execution_count": 109,
     "metadata": {},
     "output_type": "execute_result"
    }
   ],
   "source": [
    "np.max(over_10[\"reg_rate\"][\"gmean\"])"
   ]
  },
  {
   "cell_type": "markdown",
   "metadata": {},
   "source": [
    "### 전체 기하평균"
   ]
  },
  {
   "cell_type": "code",
   "execution_count": 108,
   "metadata": {},
   "outputs": [
    {
     "data": {
      "image/png": "[encoded data removed]",
      "text/plain": [
       "<Figure size 640x480 with 1 Axes>"
      ]
     },
     "metadata": {},
     "output_type": "display_data"
    }
   ],
   "source": [
    "sns.histplot(data=over_10, x=(\"reg_rate\", \"gmean\"), kde=True)\n",
    "plt.axvline(stats.gmean(over_10[\"reg_rate\"][\"gmean\"]), color=\"r\")\n",
    "# plt.xticks([np.median(over_10[\"reg_rate\"][\"mean\"])])\n",
    "plt.xticks([stats.gmean(over_10[\"reg_rate\"][\"gmean\"])])\n",
    "\n",
    "plt.show()"
   ]
  },
  {
   "cell_type": "code",
   "execution_count": 114,
   "metadata": {},
   "outputs": [],
   "source": [
    "top_30 = over_10.sort_values((\"reg_rate\", \"gmean\"), ascending=False)[:30]\n",
    "bottom_30 = over_10.sort_values((\"reg_rate\", \"gmean\"), ascending=False)[-30:]"
   ]
  },
  {
   "cell_type": "code",
   "execution_count": 116,
   "metadata": {},
   "outputs": [],
   "source": [
    "top_30_gmean = stats.gmean(top_30[\"reg_rate\"][\"gmean\"])\n",
    "bottom_30_gmean = stats.gmean(bottom_30[\"reg_rate\"][\"gmean\"])"
   ]
  },
  {
   "cell_type": "code",
   "execution_count": 120,
   "metadata": {},
   "outputs": [
    {
     "data": {
      "text/plain": [
       "(1.112625834520423, 0.6523515487018338, 0.7055617277747338)"
      ]
     },
     "execution_count": 120,
     "metadata": {},
     "output_type": "execute_result"
    }
   ],
   "source": [
    "top_30_gmean, bottom_30_gmean, (top_30_gmean - bottom_30_gmean ) / bottom_30_gmean\n",
    "# bottom_30에 비해 top_30의 평균평점이 70% 높다"
   ]
  },
  {
   "cell_type": "code",
   "execution_count": 124,
   "metadata": {},
   "outputs": [
    {
     "data": {
      "image/png": "[encoded data removed]",
      "text/plain": [
       "<Figure size 640x480 with 1 Axes>"
      ]
     },
     "metadata": {},
     "output_type": "display_data"
    }
   ],
   "source": [
    "sns.histplot(data=top_30, x=(\"reg_rate\", \"gmean\"), kde=True)\n",
    "plt.axvline(stats.gmean(top_30[\"reg_rate\"][\"gmean\"]), color=\"r\")\n",
    "# plt.xticks([np.median(top_30[\"reg_rate\"][\"mean\"])])\n",
    "# plt.xticks([stats.gmean(top_30[\"reg_rate\"][\"gmean\"])])\n",
    "\n",
    "sns.histplot(data=bottom_30, x=(\"reg_rate\", \"gmean\"), kde=True)\n",
    "plt.axvline(stats.gmean(bottom_30[\"reg_rate\"][\"gmean\"]), color=\"g\")\n",
    "# plt.xticks([np.median(bottom_30[\"reg_rate\"][\"mean\"])])\n",
    "plt.xticks([stats.gmean(top_30[\"reg_rate\"][\"gmean\"]), stats.gmean(bottom_30[\"reg_rate\"][\"gmean\"])])\n",
    "\n",
    "plt.show()\n",
    "\n",
    "# 하위 30%는 본인의 성향의 65%만 점수를 안줬다\n",
    "# 상위 30%는 본인의 성향의 11%만 점수를 더줬다\n",
    "# -> 하위 30%가 본인의 성향에 비해 만족도가 더 낮다\n",
    "# => 만족도에 있어, 불만족한 부분이 평균평점에 반영되는 정도가 크다"
   ]
  },
  {
   "cell_type": "code",
   "execution_count": null,
   "metadata": {},
   "outputs": [],
   "source": []
  }
 ],
 "metadata": {
  "kernelspec": {
   "display_name": "gangnam",
   "language": "python",
   "name": "python3"
  },
  "language_info": {
   "codemirror_mode": {
    "name": "ipython",
    "version": 3
   },
   "file_extension": ".py",
   "mimetype": "text/x-python",
   "name": "python",
   "nbconvert_exporter": "python",
   "pygments_lexer": "ipython3",
   "version": "3.11.0"
  }
 },
 "nbformat": 4,
 "nbformat_minor": 2
}
