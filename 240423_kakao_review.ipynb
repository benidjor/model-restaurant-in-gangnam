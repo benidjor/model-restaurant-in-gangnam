{
 "cells": [
  {
   "cell_type": "code",
   "execution_count": 1,
   "metadata": {
    "ExecuteTime": {
     "end_time": "2024-04-23T11:34:46.907344Z",
     "start_time": "2024-04-23T11:34:46.047706Z"
    }
   },
   "outputs": [],
   "source": [
    "import pandas as pd\n",
    "import numpy as np\n",
    "import requests\n",
    "from datetime import datetime\n",
    "import json\n",
    "import pickle"
   ]
  },
  {
   "cell_type": "code",
   "execution_count": 2,
   "metadata": {
    "ExecuteTime": {
     "end_time": "2024-04-23T11:34:53.720144Z",
     "start_time": "2024-04-23T11:34:53.699338Z"
    }
   },
   "outputs": [],
   "source": [
    "with open('result.pkl', 'rb') as file:\n",
    "    result = pickle.load(file)"
   ]
  },
  {
   "cell_type": "code",
   "execution_count": 3,
   "metadata": {
    "ExecuteTime": {
     "end_time": "2024-04-23T11:35:00.917993Z",
     "start_time": "2024-04-23T11:35:00.883930Z"
    }
   },
   "outputs": [
    {
     "data": {
      "text/html": [
       "<div>\n",
       "<style scoped>\n",
       "    .dataframe tbody tr th:only-of-type {\n",
       "        vertical-align: middle;\n",
       "    }\n",
       "\n",
       "    .dataframe tbody tr th {\n",
       "        vertical-align: top;\n",
       "    }\n",
       "\n",
       "    .dataframe thead th {\n",
       "        text-align: right;\n",
       "    }\n",
       "</style>\n",
       "<table border=\"1\" class=\"dataframe\">\n",
       "  <thead>\n",
       "    <tr style=\"text-align: right;\">\n",
       "      <th></th>\n",
       "      <th>CGG_CODE</th>\n",
       "      <th>ASGN_YY</th>\n",
       "      <th>ASGN_SNO</th>\n",
       "      <th>APPL_YMD</th>\n",
       "      <th>ASGN_YMD</th>\n",
       "      <th>UPSO_NM</th>\n",
       "      <th>SITE_ADDR_RD</th>\n",
       "      <th>SITE_ADDR</th>\n",
       "      <th>PERM_NT_NO</th>\n",
       "      <th>SNT_UPTAE_NM</th>\n",
       "      <th>MAIN_EDF</th>\n",
       "      <th>TRDP_AREA</th>\n",
       "      <th>ADMDNG_NM</th>\n",
       "      <th>GRADE_FACIL_GBN</th>\n",
       "      <th>UPSO_SITE_TELNO</th>\n",
       "    </tr>\n",
       "  </thead>\n",
       "  <tbody>\n",
       "    <tr>\n",
       "      <th>0</th>\n",
       "      <td>3220000</td>\n",
       "      <td>2014</td>\n",
       "      <td>0160</td>\n",
       "      <td>20141006</td>\n",
       "      <td>20141006</td>\n",
       "      <td>이도곰탕</td>\n",
       "      <td>서울특별시 강남구 논현로94길 29-5, 지상1층,지상2층 (역삼동)</td>\n",
       "      <td>서울특별시 강남구 역삼동  671번지 17호</td>\n",
       "      <td>3220000-101-2001-24197</td>\n",
       "      <td>한식</td>\n",
       "      <td>곰탕</td>\n",
       "      <td>194.41</td>\n",
       "      <td>역삼1동</td>\n",
       "      <td>상수도전용</td>\n",
       "      <td>02 5010738</td>\n",
       "    </tr>\n",
       "    <tr>\n",
       "      <th>1</th>\n",
       "      <td>3220000</td>\n",
       "      <td>2021</td>\n",
       "      <td>139</td>\n",
       "      <td>20181001</td>\n",
       "      <td>20211116</td>\n",
       "      <td>솥내음 스타필드 코엑스몰점</td>\n",
       "      <td>서울특별시 강남구 영동대로 513, 코엑스 지하1층 O-107호 (삼성동)</td>\n",
       "      <td>서울특별시 강남구 삼성동  159번지  코엑스</td>\n",
       "      <td>3220000-101-2020-00643</td>\n",
       "      <td>한식</td>\n",
       "      <td>직화불백</td>\n",
       "      <td>74.56</td>\n",
       "      <td>삼성1동</td>\n",
       "      <td></td>\n",
       "      <td></td>\n",
       "    </tr>\n",
       "    <tr>\n",
       "      <th>2</th>\n",
       "      <td>3220000</td>\n",
       "      <td>2010</td>\n",
       "      <td>0024</td>\n",
       "      <td>20100210</td>\n",
       "      <td>20100210</td>\n",
       "      <td>스시히로바</td>\n",
       "      <td>서울특별시 강남구 삼성로 620, 블래스톤리조트 지상1층 (삼성동)</td>\n",
       "      <td>서울특별시 강남구 삼성동  70번지  블래스톤리조트</td>\n",
       "      <td>3220000-101-2002-00383</td>\n",
       "      <td>일식</td>\n",
       "      <td>초밥</td>\n",
       "      <td>216.56</td>\n",
       "      <td>삼성1동</td>\n",
       "      <td>상수도전용</td>\n",
       "      <td>02 5155511</td>\n",
       "    </tr>\n",
       "    <tr>\n",
       "      <th>3</th>\n",
       "      <td>3220000</td>\n",
       "      <td>2016</td>\n",
       "      <td>0089</td>\n",
       "      <td>20161125</td>\n",
       "      <td>20161125</td>\n",
       "      <td>서백자 간장게장</td>\n",
       "      <td>서울특별시 강남구 삼성로 542, 지상2층 (삼성동, 석천빌딩)</td>\n",
       "      <td>서울특별시 강남구 삼성동  151번지 4호  석천빌딩 2층</td>\n",
       "      <td>3220000-101-2012-00416</td>\n",
       "      <td>중국식</td>\n",
       "      <td>간장게장</td>\n",
       "      <td>260.30</td>\n",
       "      <td>삼성1동</td>\n",
       "      <td></td>\n",
       "      <td>02  34536008</td>\n",
       "    </tr>\n",
       "    <tr>\n",
       "      <th>4</th>\n",
       "      <td>3220000</td>\n",
       "      <td>2016</td>\n",
       "      <td>0084</td>\n",
       "      <td>20161125</td>\n",
       "      <td>20161125</td>\n",
       "      <td>주)봉산집</td>\n",
       "      <td>서울특별시 강남구 삼성로 564, 지상2층,지상3층 (삼성동)</td>\n",
       "      <td>서울특별시 강남구 삼성동  145번지 19호</td>\n",
       "      <td>3220000-101-2011-01048</td>\n",
       "      <td>한식</td>\n",
       "      <td>차돌박이</td>\n",
       "      <td>452.95</td>\n",
       "      <td>삼성1동</td>\n",
       "      <td></td>\n",
       "      <td></td>\n",
       "    </tr>\n",
       "    <tr>\n",
       "      <th>...</th>\n",
       "      <td>...</td>\n",
       "      <td>...</td>\n",
       "      <td>...</td>\n",
       "      <td>...</td>\n",
       "      <td>...</td>\n",
       "      <td>...</td>\n",
       "      <td>...</td>\n",
       "      <td>...</td>\n",
       "      <td>...</td>\n",
       "      <td>...</td>\n",
       "      <td>...</td>\n",
       "      <td>...</td>\n",
       "      <td>...</td>\n",
       "      <td>...</td>\n",
       "      <td>...</td>\n",
       "    </tr>\n",
       "    <tr>\n",
       "      <th>311</th>\n",
       "      <td>3220000</td>\n",
       "      <td>2016</td>\n",
       "      <td>7</td>\n",
       "      <td>20161125</td>\n",
       "      <td>20161125</td>\n",
       "      <td>밀란</td>\n",
       "      <td>서울특별시 강남구 개포로28길 4, (개포동,지상1층101호)</td>\n",
       "      <td>서울특별시 강남구 개포동  1215번지 0호  지상1층101호</td>\n",
       "      <td>3220000-101-2004-00840</td>\n",
       "      <td>한식</td>\n",
       "      <td>면류</td>\n",
       "      <td>128.76</td>\n",
       "      <td>개포4동</td>\n",
       "      <td>상수도전용</td>\n",
       "      <td>02  574 3216</td>\n",
       "    </tr>\n",
       "    <tr>\n",
       "      <th>312</th>\n",
       "      <td>3220000</td>\n",
       "      <td>2023</td>\n",
       "      <td>313</td>\n",
       "      <td>20231010</td>\n",
       "      <td>20231123</td>\n",
       "      <td>모스가든</td>\n",
       "      <td>서울특별시 강남구 논현로139길 12, 지상1층 (논현동)</td>\n",
       "      <td>서울특별시 강남구 논현동  30번지 6호</td>\n",
       "      <td>3220000-101-2012-00814</td>\n",
       "      <td>한식</td>\n",
       "      <td>파스타</td>\n",
       "      <td>332.00</td>\n",
       "      <td>논현1동</td>\n",
       "      <td></td>\n",
       "      <td></td>\n",
       "    </tr>\n",
       "    <tr>\n",
       "      <th>313</th>\n",
       "      <td>3220000</td>\n",
       "      <td>2010</td>\n",
       "      <td>0058</td>\n",
       "      <td>20100210</td>\n",
       "      <td>20100210</td>\n",
       "      <td>삼성물산(주)10꼬르소꼬모서울카페</td>\n",
       "      <td>서울특별시 강남구 압구정로 416, (청담동,지하1층)</td>\n",
       "      <td>서울특별시 강남구 청담동  79번지 0호  지하1층</td>\n",
       "      <td>3220000-101-2008-00093</td>\n",
       "      <td>경양식</td>\n",
       "      <td>이태리</td>\n",
       "      <td>350.00</td>\n",
       "      <td>청담동</td>\n",
       "      <td>상수도전용</td>\n",
       "      <td>02  30181010</td>\n",
       "    </tr>\n",
       "    <tr>\n",
       "      <th>314</th>\n",
       "      <td>3220000</td>\n",
       "      <td>2023</td>\n",
       "      <td>299</td>\n",
       "      <td>20231010</td>\n",
       "      <td>20231123</td>\n",
       "      <td>현대낙지집</td>\n",
       "      <td>서울특별시 강남구 압구정로14길 11, (신사동)</td>\n",
       "      <td>서울특별시 강남구 신사동  550번지 3호</td>\n",
       "      <td>3220000-101-1985-17501</td>\n",
       "      <td>한식</td>\n",
       "      <td>낙지, 감자탕</td>\n",
       "      <td>92.03</td>\n",
       "      <td>신사동</td>\n",
       "      <td>상수도전용</td>\n",
       "      <td>02 5461022</td>\n",
       "    </tr>\n",
       "    <tr>\n",
       "      <th>315</th>\n",
       "      <td>3220000</td>\n",
       "      <td>2010</td>\n",
       "      <td>0061</td>\n",
       "      <td>20100730</td>\n",
       "      <td>20100915</td>\n",
       "      <td>초심</td>\n",
       "      <td>서울특별시 강남구 언주로172길 55, 지상2층 (신사동)</td>\n",
       "      <td>서울특별시 강남구 신사동  662번지 6호</td>\n",
       "      <td>3220000-101-2005-00412</td>\n",
       "      <td>경양식</td>\n",
       "      <td>곱창, 부대찌개</td>\n",
       "      <td>211.26</td>\n",
       "      <td>신사동</td>\n",
       "      <td>상수도전용</td>\n",
       "      <td>02 5174433</td>\n",
       "    </tr>\n",
       "  </tbody>\n",
       "</table>\n",
       "<p>316 rows × 15 columns</p>\n",
       "</div>"
      ],
      "text/plain": [
       "    CGG_CODE ASGN_YY ASGN_SNO  APPL_YMD  ASGN_YMD             UPSO_NM  \\\n",
       "0    3220000    2014     0160  20141006  20141006                이도곰탕   \n",
       "1    3220000    2021     139   20181001  20211116      솥내음 스타필드 코엑스몰점   \n",
       "2    3220000    2010     0024  20100210  20100210               스시히로바   \n",
       "3    3220000    2016     0089  20161125  20161125            서백자 간장게장   \n",
       "4    3220000    2016     0084  20161125  20161125               주)봉산집   \n",
       "..       ...     ...      ...       ...       ...                 ...   \n",
       "311  3220000    2016     7     20161125  20161125                  밀란   \n",
       "312  3220000    2023     313   20231010  20231123                모스가든   \n",
       "313  3220000    2010     0058  20100210  20100210  삼성물산(주)10꼬르소꼬모서울카페   \n",
       "314  3220000    2023     299   20231010  20231123               현대낙지집   \n",
       "315  3220000    2010     0061  20100730  20100915                  초심   \n",
       "\n",
       "                                  SITE_ADDR_RD  \\\n",
       "0       서울특별시 강남구 논현로94길 29-5, 지상1층,지상2층 (역삼동)   \n",
       "1    서울특별시 강남구 영동대로 513, 코엑스 지하1층 O-107호 (삼성동)   \n",
       "2        서울특별시 강남구 삼성로 620, 블래스톤리조트 지상1층 (삼성동)   \n",
       "3          서울특별시 강남구 삼성로 542, 지상2층 (삼성동, 석천빌딩)   \n",
       "4           서울특별시 강남구 삼성로 564, 지상2층,지상3층 (삼성동)   \n",
       "..                                         ...   \n",
       "311         서울특별시 강남구 개포로28길 4, (개포동,지상1층101호)   \n",
       "312           서울특별시 강남구 논현로139길 12, 지상1층 (논현동)   \n",
       "313             서울특별시 강남구 압구정로 416, (청담동,지하1층)   \n",
       "314                서울특별시 강남구 압구정로14길 11, (신사동)   \n",
       "315           서울특별시 강남구 언주로172길 55, 지상2층 (신사동)   \n",
       "\n",
       "                              SITE_ADDR              PERM_NT_NO SNT_UPTAE_NM  \\\n",
       "0            서울특별시 강남구 역삼동  671번지 17호    3220000-101-2001-24197           한식   \n",
       "1             서울특별시 강남구 삼성동  159번지  코엑스  3220000-101-2020-00643           한식   \n",
       "2          서울특별시 강남구 삼성동  70번지  블래스톤리조트  3220000-101-2002-00383           일식   \n",
       "3      서울특별시 강남구 삼성동  151번지 4호  석천빌딩 2층  3220000-101-2012-00416          중국식   \n",
       "4            서울특별시 강남구 삼성동  145번지 19호    3220000-101-2011-01048           한식   \n",
       "..                                  ...                     ...          ...   \n",
       "311  서울특별시 강남구 개포동  1215번지 0호  지상1층101호  3220000-101-2004-00840           한식   \n",
       "312            서울특별시 강남구 논현동  30번지 6호    3220000-101-2012-00814           한식   \n",
       "313        서울특별시 강남구 청담동  79번지 0호  지하1층  3220000-101-2008-00093          경양식   \n",
       "314           서울특별시 강남구 신사동  550번지 3호    3220000-101-1985-17501           한식   \n",
       "315           서울특별시 강남구 신사동  662번지 6호    3220000-101-2005-00412          경양식   \n",
       "\n",
       "     MAIN_EDF  TRDP_AREA ADMDNG_NM GRADE_FACIL_GBN UPSO_SITE_TELNO  \n",
       "0          곰탕     194.41      역삼1동           상수도전용      02 5010738  \n",
       "1        직화불백      74.56      삼성1동                                  \n",
       "2          초밥     216.56      삼성1동           상수도전용      02 5155511  \n",
       "3        간장게장     260.30      삼성1동                    02  34536008  \n",
       "4        차돌박이     452.95      삼성1동                                  \n",
       "..        ...        ...       ...             ...             ...  \n",
       "311        면류     128.76      개포4동           상수도전용    02  574 3216  \n",
       "312       파스타     332.00      논현1동                                  \n",
       "313       이태리     350.00       청담동           상수도전용    02  30181010  \n",
       "314   낙지, 감자탕      92.03       신사동           상수도전용      02 5461022  \n",
       "315  곱창, 부대찌개     211.26       신사동           상수도전용      02 5174433  \n",
       "\n",
       "[316 rows x 15 columns]"
      ]
     },
     "execution_count": 3,
     "metadata": {},
     "output_type": "execute_result"
    }
   ],
   "source": [
    "result['data']['지정']"
   ]
  },
  {
   "cell_type": "code",
   "execution_count": 7,
   "metadata": {},
   "outputs": [
    {
     "data": {
      "text/plain": [
       "array(['이도곰탕', '솥내음 스타필드 코엑스몰점', '스시히로바', '서백자 간장게장', '주)봉산집', '더드림',\n",
       "       '국민한우집 삼성역점(구 칠프로칠백식당 포스코점)', '이즈미', '홍영재 장수 청국장', '등대',\n",
       "       '(주)아구본가첨벙대치', '김태준의 탕탕집', '불이아', '경성면옥', '밀밭', '안동찜닭 해물떡찜',\n",
       "       '니뽕내뽕(코엑스점)', '세화정육', '신의주 부대찌개 삼성점', '지호한방삼계탕', '차이나타운',\n",
       "       '오발탄(주)오발탄에프에스', '가원', '대흥정 엘에이 갈비', '아야진생태찌개', '수림복국', '평가옥',\n",
       "       '바오바오', '(주)곰바위', '황소곱창', '삼성동 명인등심', '프로간장게장', '해랑',\n",
       "       '본가 신의주 찹쌀순대', '나무(대치점)', '이조식당', '공수간 코엑스몰', '명동칼국수', '도모다찌',\n",
       "       '예가낙지마을', '동경', '토말', '엠브이샤브샤브', '조수사', '토담골', '시골진지상',\n",
       "       '무교동유정낙지청담점', '가득드림', '미로정', '한촌설렁탕 선릉역점', '유장원보쌈', '강남어시장',\n",
       "       '원조닭칼국수', '국고집', '김수사', '박대박', '청담항', '뉴욕바닷가재청담점', '무탄', '전주명가',\n",
       "       '계승집', '명동칼국수샤브샤브', '천미미', '명가한식', '바다를 훔친 언니', '아오끼',\n",
       "       '(주)도곡본점 해우리', '송화', '하동관', '두릉도원 북촌순두부', '토담골49번지', '연화산',\n",
       "       '천하일품추어탕', '내림손 삼계탕', '아구본가 첨벙 신사본점', '명동관', '우밀가 상록점', '무화잠',\n",
       "       '금강수림', '진수사', '햇무리', '옛날집', '양문(역삼점)', '두껍삼 역삼직영점',\n",
       "       '케르반레스토랑 코엑스점', '놀부보쌈과 부대찌게 삼성1호', '스카이라운지', '브래서리', '하꼬네',\n",
       "       '아시안라이브', '새마을식당', '영이네', '구이가', '영암집', '만두의 전설', '언양불고기',\n",
       "       '리브팜 압구정', '골목길', '꽃지삼성', '초심한우 정육식당', '노다지 삼겹살', '사조참치삼성점',\n",
       "       '호보식당', '(주)청담푸드빌(청담복집)(신의주찹쌀순대)', '보슬보슬 압구정본점', '남도랑', '논골집',\n",
       "       '해남집', '윤화돈까스 기사식당', '카페비스타', '와인앤다인', '대운정', '남도사계고운님', '주식회사 원강',\n",
       "       '무등산', '오레노카츠', '(주)아리양', '이남장영동점', '수서골목냉면', '일미원', '최가네버섯매운탕칼국수',\n",
       "       '오미가', '(주)정성담에프앤비', '한일관', '옛날집 도산사거리점', '연타발', '한우리외식산업(주)',\n",
       "       '마산아구찜', '화기애애(강남1호점)', '봉우리', '애란궁', '신복면관', '고궁수라간 코엑스점', '소풍',\n",
       "       '쭈불앤쭈불', '(주)광양불고기본가', '통영집', '영동올뱅이집', '노란상 소갈비 강남직영점', '신의주찹쌀순대',\n",
       "       '백억하누', '황금돼지', '반하는 보쌈&밥상', '압구정 샤브샤브', '금수복국 압구정점', '리엔', '코너스톤',\n",
       "       '더라운지', '더팀버하우스', '대가방', '잰부닥', '우리돈삼이', '수백당 삼성동점', '석기정', '유다까',\n",
       "       '어방참치', '베이징코야강남점', '바다풍경', '일공', '어원', '신촌설렁탕', '현 우동', '수담',\n",
       "       '셀럽 앤 어？', '홍백', '하우마라탕', '대도식당', '해초록 사랑', '정참치', '하루',\n",
       "       '그림나베 학동역점', '흥부이가', '교대이층집강남역점', '닭갈비두목', '향촌면옥', '(주)도라후구현복집',\n",
       "       '파파호', '주식회사곰바우', '와인주막차차 압구정점', '배정철 어도', '텐파 마라탕 마라샹꿔', '다정한상',\n",
       "       '주식회사 양인환대(본점)', '분짜라붐 역삼점', '백년육일집', '대찬횟집', '(주)닭으로가', '막둥이냉면',\n",
       "       '그랜드키친', '아선재', '압구정제주집(狎鷗亭濟州緝)', '추풍령칼삼겹살', '순리대로', '동천홍 학동점',\n",
       "       '닭한마리 감자탕', '취향의공간', '봉추찜닭주공공이', '대가', '남도구들 한정식', '대우식당',\n",
       "       '(주)평가옥 푸드시스템 역삼점', '예담한우', '강가', '꽃새우 영번지', '강남목장', '루안',\n",
       "       '리미티드 하누 Limited HANU', '삼식이감자탕', '임고집 한우＆보쌈마을', '뒤끝', '사리원',\n",
       "       '임고집 한우＆보쌈마을(2호점)', '(주)타워차이', '창포', '하영호신촌설렁탕 압구정역점',\n",
       "       '직화전문점 미스터 왕왕', '남순남순대국 본점', '멘무샤', '춘천명물닭갈비', '취영루', '남서울민물장어',\n",
       "       '크래버대게나라', '봉산집', '마포숯불갈비', '반룡산', '진대감', '강남수랏간', '청자골',\n",
       "       '단스시(논현점)', '광양불고기 수서', '하이보', '군산회집', '대한민국', '김셰프의 도시어부',\n",
       "       '(주)중앙해장', '금강식당', '한국돈거래소', '지하오', '아야진생태찌개 역삼점', '갓텐스시강남점',\n",
       "       '(주)해담채강남', '(주)신정', '(주)우동명가기리야마본진', '구레스시', '주식회사 에도긴', '가시리',\n",
       "       '완산골명가(일원점)', '교토', '본가', '대청뼈다귀감자탕', '청담갯벌장어', '코리아하우스', '고센',\n",
       "       '진성식당', '한티옥', '봉추찜닭압구정로데오점', '옛골 원조 양평해장국', '대청가든', '평양면옥',\n",
       "       '두코 매봉역점', '이화원', '본죽', '룽청', '한옥집 김치찜 GFC몰점', '일등추어탕',\n",
       "       '별난횟집 역삼직영점', '사량도', '린카', '진주성', '화통집 강남자곡점', '육전식당 4호점',\n",
       "       '본가신의주찹쌀순대전문점', '봉평착한메밀', '한방대가삼계탕', '본초강목', '우림황소양곱창', '뱃고동',\n",
       "       '서울덮밥&김치찜', '만족오향족발 역삼점', '명인등심(청담유통)', '신단설렁탕', '마쯔가제', '육갑식당',\n",
       "       '더 플레이스 코엑스점', '미사리밀빛초계국수', '하영호신촌설렁탕', '천향', '신사정육식당', '분틀',\n",
       "       '수하동 본점', '월출산', '원조본점닭한마리', '신촌설렁탕 강남구청역점', '안뜨레', '무교동홍낙(수서점)',\n",
       "       '로즈힐 강남파이낸스센터점', '르사이공 코엑스몰점', '오늘은 닭', '영천영화', '이영근 만두', '풍성옥',\n",
       "       '한쉐프', '지강한식당 압구정본점', '도원', '차슈밍', '순대실록 삼성역점', '용수사', '효미역 압구정점',\n",
       "       '기무', '밀란', '모스가든', '삼성물산(주)10꼬르소꼬모서울카페', '현대낙지집', '초심'],\n",
       "      dtype=object)"
      ]
     },
     "execution_count": 7,
     "metadata": {},
     "output_type": "execute_result"
    }
   ],
   "source": [
    "result['data']['지정']['UPSO_NM'].unique()"
   ]
  },
  {
   "cell_type": "code",
   "execution_count": 205,
   "metadata": {
    "ExecuteTime": {
     "end_time": "2024-04-23T13:59:55.506073Z",
     "start_time": "2024-04-23T13:59:55.069750Z"
    }
   },
   "outputs": [
    {
     "name": "stdout",
     "output_type": "stream",
     "text": [
      "총 댓글 개수: 169개, 평점: 4.11점\n"
     ]
    }
   ],
   "source": [
    "request_id = 14569639\n",
    "url = f'https://place.map.kakao.com/main/v/{request_id}'\n",
    "response = requests.get(url)\n",
    "comments = []\n",
    "if response.status_code == 200:\n",
    "    comment_data = json.loads(response.content)['comment']\n",
    "    comment_count = int(comment_data['kamapComntcnt'])\n",
    "    overall_score = int(comment_data['scoresum']) / int(comment_data['scorecnt'])\n",
    "    for c in comment_data['list']:\n",
    "        comments.append({'점수': c['point'], '댓글': c['contents'], '작성일': c['date']})\n",
    "        request_comment_id = c['commentid']\n",
    "    print(f'총 댓글 개수: {comment_count}개, 평점: {np.round(overall_score, 2)}점')\n",
    "else:\n",
    "    print('error')"
   ]
  },
  {
   "cell_type": "code",
   "execution_count": 206,
   "metadata": {
    "ExecuteTime": {
     "end_time": "2024-04-23T14:00:00.843508Z",
     "start_time": "2024-04-23T13:59:57.335161Z"
    }
   },
   "outputs": [],
   "source": [
    "while len(comments) < comment_count:\n",
    "    url = f'https://place.map.kakao.com/commentlist/v/{request_id}/{request_comment_id}'\n",
    "    response = requests.get(url)\n",
    "    if response.status_code == 200:\n",
    "        comment_data = json.loads(response.content)['comment']\n",
    "        for c in comment_data['list']:\n",
    "            try:\n",
    "                comments.append({'점수': c['point'], '댓글': c['contents'], '작성일': c['date']})\n",
    "            except:\n",
    "                comments.append({'점수': c['point'], '댓글': '', '작성일': c['date']})\n",
    "            request_comment_id = c['commentid']\n",
    "    else:\n",
    "        print('error')"
   ]
  },
  {
   "cell_type": "code",
   "execution_count": 207,
   "metadata": {
    "ExecuteTime": {
     "end_time": "2024-04-23T14:00:07.485725Z",
     "start_time": "2024-04-23T14:00:07.462351Z"
    }
   },
   "outputs": [
    {
     "data": {
      "text/html": [
       "<div>\n",
       "<style scoped>\n",
       "    .dataframe tbody tr th:only-of-type {\n",
       "        vertical-align: middle;\n",
       "    }\n",
       "\n",
       "    .dataframe tbody tr th {\n",
       "        vertical-align: top;\n",
       "    }\n",
       "\n",
       "    .dataframe thead th {\n",
       "        text-align: right;\n",
       "    }\n",
       "</style>\n",
       "<table border=\"1\" class=\"dataframe\">\n",
       "  <thead>\n",
       "    <tr style=\"text-align: right;\">\n",
       "      <th></th>\n",
       "      <th>점수</th>\n",
       "      <th>댓글</th>\n",
       "      <th>작성일</th>\n",
       "    </tr>\n",
       "  </thead>\n",
       "  <tbody>\n",
       "    <tr>\n",
       "      <th>0</th>\n",
       "      <td>5</td>\n",
       "      <td></td>\n",
       "      <td>2024.04.22.</td>\n",
       "    </tr>\n",
       "    <tr>\n",
       "      <th>1</th>\n",
       "      <td>2</td>\n",
       "      <td>너무 짜요. 처음엔 먹을만했는데. 절반정도 먹고나선 너무 짜서 짜증날 정도임. 맛 ...</td>\n",
       "      <td>2024.04.14.</td>\n",
       "    </tr>\n",
       "    <tr>\n",
       "      <th>2</th>\n",
       "      <td>5</td>\n",
       "      <td>곰탕 정말 빨리나옵니다. 주문하고 5분도 안되서 음식 받은거 같아요. 정말 맛있고 ...</td>\n",
       "      <td>2024.04.11.</td>\n",
       "    </tr>\n",
       "    <tr>\n",
       "      <th>3</th>\n",
       "      <td>5</td>\n",
       "      <td>수육이랑 곰탕먹었어요\\n곰탕은 주문하자마자 빨리 나왔어요\\n고기도 많이 들어가있고\\...</td>\n",
       "      <td>2024.04.08.</td>\n",
       "    </tr>\n",
       "    <tr>\n",
       "      <th>4</th>\n",
       "      <td>5</td>\n",
       "      <td>세종대왕의 이름 (이도 李裪)에 걸맞는 \\n진한 맛의 곰탕입니다\\n마침 제옆에 외국...</td>\n",
       "      <td>2024.04.02.</td>\n",
       "    </tr>\n",
       "    <tr>\n",
       "      <th>...</th>\n",
       "      <td>...</td>\n",
       "      <td>...</td>\n",
       "      <td>...</td>\n",
       "    </tr>\n",
       "    <tr>\n",
       "      <th>164</th>\n",
       "      <td>4</td>\n",
       "      <td>곰탕</td>\n",
       "      <td>2016.09.29.</td>\n",
       "    </tr>\n",
       "    <tr>\n",
       "      <th>165</th>\n",
       "      <td>4</td>\n",
       "      <td>소수육46. 면+죽 추가10.</td>\n",
       "      <td>2016.09.09.</td>\n",
       "    </tr>\n",
       "    <tr>\n",
       "      <th>166</th>\n",
       "      <td>2</td>\n",
       "      <td>공장형.\\n밥대신 국수.\\n잘 모르겠다.</td>\n",
       "      <td>2016.08.03.</td>\n",
       "    </tr>\n",
       "    <tr>\n",
       "      <th>167</th>\n",
       "      <td>4</td>\n",
       "      <td></td>\n",
       "      <td>2016.07.10.</td>\n",
       "    </tr>\n",
       "    <tr>\n",
       "      <th>168</th>\n",
       "      <td>5</td>\n",
       "      <td>(수육+장칼국수+죽) 3명에서 이렇게 먹으니 딱좋네.\\n복잡한 역삼역에 주차공간도 ...</td>\n",
       "      <td>2016.03.15.</td>\n",
       "    </tr>\n",
       "  </tbody>\n",
       "</table>\n",
       "<p>169 rows × 3 columns</p>\n",
       "</div>"
      ],
      "text/plain": [
       "     점수                                                 댓글          작성일\n",
       "0     5                                                     2024.04.22.\n",
       "1     2  너무 짜요. 처음엔 먹을만했는데. 절반정도 먹고나선 너무 짜서 짜증날 정도임. 맛 ...  2024.04.14.\n",
       "2     5  곰탕 정말 빨리나옵니다. 주문하고 5분도 안되서 음식 받은거 같아요. 정말 맛있고 ...  2024.04.11.\n",
       "3     5  수육이랑 곰탕먹었어요\\n곰탕은 주문하자마자 빨리 나왔어요\\n고기도 많이 들어가있고\\...  2024.04.08.\n",
       "4     5  세종대왕의 이름 (이도 李裪)에 걸맞는 \\n진한 맛의 곰탕입니다\\n마침 제옆에 외국...  2024.04.02.\n",
       "..   ..                                                ...          ...\n",
       "164   4                                                 곰탕  2016.09.29.\n",
       "165   4                                  소수육46. 면+죽 추가10.   2016.09.09.\n",
       "166   2                             공장형.\\n밥대신 국수.\\n잘 모르겠다.  2016.08.03.\n",
       "167   4                                                     2016.07.10.\n",
       "168   5  (수육+장칼국수+죽) 3명에서 이렇게 먹으니 딱좋네.\\n복잡한 역삼역에 주차공간도 ...  2016.03.15.\n",
       "\n",
       "[169 rows x 3 columns]"
      ]
     },
     "execution_count": 207,
     "metadata": {},
     "output_type": "execute_result"
    }
   ],
   "source": [
    "pd.DataFrame(comments)"
   ]
  },
  {
   "cell_type": "markdown",
   "metadata": {},
   "source": [
    "[카카오맵 API]\n",
    "1. 식당 id를 찾는다.\n",
    "\n",
    "[카카오맵 크롤링]\n",
    "\n",
    "2. 해당 식당 id를 url로 하여 requests를 보낸다.\n",
    "3. 해당 response에서 댓글을 찾은 뒤 수집한다. (3개)\n",
    "4. 마지막 댓글의 id를 찾아 새로운 url을 생성하여 requests를 보낸다.\n",
    "5. 해당 response에서 댓글을 찾은 뒤 수집한다. (5개)\n",
    "6. 모든 댓글을 수집할 때까지 4 - 5 단계를 반복한다."
   ]
  },
  {
   "cell_type": "markdown",
   "metadata": {},
   "source": [
    "---"
   ]
  },
  {
   "cell_type": "code",
   "execution_count": 4,
   "metadata": {
    "ExecuteTime": {
     "end_time": "2024-04-23T12:21:03.355907Z",
     "start_time": "2024-04-23T12:21:03.344562Z"
    }
   },
   "outputs": [],
   "source": [
    "df = result['data']['지정']"
   ]
  },
  {
   "cell_type": "code",
   "execution_count": 32,
   "metadata": {
    "ExecuteTime": {
     "end_time": "2024-04-23T12:28:59.720876Z",
     "start_time": "2024-04-23T12:28:59.698768Z"
    }
   },
   "outputs": [
    {
     "data": {
      "text/plain": [
       "0                    이도곰탕\n",
       "1          솥내음 스타필드 코엑스몰점\n",
       "2                   스시히로바\n",
       "3                서백자 간장게장\n",
       "4                   주)봉산집\n",
       "              ...        \n",
       "311                    밀란\n",
       "312                  모스가든\n",
       "313    삼성물산(주)10꼬르소꼬모서울카페\n",
       "314                 현대낙지집\n",
       "315                    초심\n",
       "Name: UPSO_NM, Length: 316, dtype: object"
      ]
     },
     "execution_count": 32,
     "metadata": {},
     "output_type": "execute_result"
    }
   ],
   "source": [
    "df['UPSO_NM']"
   ]
  },
  {
   "cell_type": "code",
   "execution_count": 42,
   "metadata": {
    "ExecuteTime": {
     "end_time": "2024-04-23T12:33:20.934370Z",
     "start_time": "2024-04-23T12:33:20.914795Z"
    }
   },
   "outputs": [
    {
     "data": {
      "text/plain": [
       "0               이도곰탕\n",
       "1      솥내음 스타필드 코엑스몰\n",
       "2              스시히로바\n",
       "3           서백자 간장게장\n",
       "4                봉산집\n",
       "           ...      \n",
       "311               밀란\n",
       "312             모스가든\n",
       "313      10꼬르소꼬모서울카페\n",
       "314            현대낙지집\n",
       "315               초심\n",
       "Name: UPSO_NM, Length: 316, dtype: object"
      ]
     },
     "execution_count": 42,
     "metadata": {},
     "output_type": "execute_result"
    }
   ],
   "source": [
    "def find_string(txt):\n",
    "    if '주)' in txt:\n",
    "        target_index = txt.index('주)')\n",
    "        if target_index > len(txt) // 2:\n",
    "            return txt[:txt.index('주)') - 1]\n",
    "        else:\n",
    "            return txt[txt.index('주)') + 2:]\n",
    "    else:\n",
    "        return txt\n",
    "\n",
    "df['UPSO_NM'].apply(find_string).str.split('(').str[0].str.rstrip('점')"
   ]
  },
  {
   "cell_type": "code",
   "execution_count": 152,
   "metadata": {
    "ExecuteTime": {
     "end_time": "2024-04-23T13:15:44.572227Z",
     "start_time": "2024-04-23T13:15:44.550264Z"
    }
   },
   "outputs": [],
   "source": [
    "key = '923dc9604178f2a7aa0979ae38029a34'\n",
    "kakao_result = []\n",
    "df['keyword'] = df['UPSO_NM'].apply(find_string).str.split('(').str[0].str.rstrip('점')\n",
    "keywords = df['keyword'].tolist()\n",
    "\n",
    "def generate_address(txt):\n",
    "    try:\n",
    "        if txt.split(' ')[5]:\n",
    "            if txt.split(' ')[5][-1] == '호':\n",
    "                return txt.split(' ')[2] + ' ' + txt.split(' ')[4].rstrip('번지') + '-' + txt.split(' ')[5].rstrip('호')\n",
    "            else:\n",
    "                return txt.split(' ')[2] + ' ' + txt.split(' ')[4].rstrip('번지')\n",
    "        else:\n",
    "            return txt.split(' ')[2] + ' ' + txt.split(' ')[4].rstrip('번지')\n",
    "            \n",
    "    except:\n",
    "        return False"
   ]
  },
  {
   "cell_type": "code",
   "execution_count": 217,
   "metadata": {
    "ExecuteTime": {
     "end_time": "2024-04-23T14:03:02.278367Z",
     "start_time": "2024-04-23T14:03:02.263788Z"
    }
   },
   "outputs": [],
   "source": [
    "df = df.drop('id', axis=1)"
   ]
  },
  {
   "cell_type": "code",
   "execution_count": 236,
   "metadata": {
    "ExecuteTime": {
     "end_time": "2024-04-23T14:21:39.078191Z",
     "start_time": "2024-04-23T14:21:39.073196Z"
    }
   },
   "outputs": [
    {
     "data": {
      "text/plain": [
       "'신사동 609'"
      ]
     },
     "execution_count": 236,
     "metadata": {},
     "output_type": "execute_result"
    }
   ],
   "source": [
    "generate_address(df.loc[309, 'SITE_ADDR'])"
   ]
  },
  {
   "cell_type": "code",
   "execution_count": 242,
   "metadata": {
    "ExecuteTime": {
     "end_time": "2024-04-23T14:22:40.065700Z",
     "start_time": "2024-04-23T14:22:39.993523Z"
    }
   },
   "outputs": [],
   "source": [
    "kakao_result = []\n",
    "rows = []\n",
    "ids = []\n",
    "for idx, keyword in enumerate(keywords[309:310]):\n",
    "    url = 'https://dapi.kakao.com/v2/local/search/keyword.json' \n",
    "    params = {'query': keyword, 'page': 1}\n",
    "    headers = {\"Authorization\": f'''KakaoAK {key}'''}\n",
    "    response = requests.get(url, params=params, headers=headers)\n",
    "    this_result = []\n",
    "    this_id = []\n",
    "    for row in json.loads(response.content)['documents']:\n",
    "        rows.append(row)\n",
    "        cond_gangnam = row['address_name'].split(' ')[0] == '서울' and row['address_name'].split(' ')[1] == '강남구'\n",
    "        cond_addr = generate_address(df.loc[idx, 'SITE_ADDR']) == row['address_name'][7:]\n",
    "        cond_road_addr = df.loc[idx, 'SITE_ADDR_RD'].replace('특별시', '').split(',')[0] == row['road_address_name']\n",
    "        if cond_gangnam and (cond_addr or cond_road_addr):\n",
    "            this_result.append({\n",
    "                '검색어': keyword,\n",
    "                '상호명': row['place_name'],\n",
    "                '지번주소': row['address_name'],\n",
    "                '도로명주소': row['road_address_name'],\n",
    "                'id': row['id']\n",
    "            })\n",
    "            this_id.append(row['id'])\n",
    "    ids.append(this_id if this_id else None)\n",
    "#     if len(this_result) == 1:\n",
    "#         df.loc[idx, 'id'] = this_result[0]['id']\n",
    "# kakao_df = pd.DataFrame(kakao_result)"
   ]
  },
  {
   "cell_type": "code",
   "execution_count": 244,
   "metadata": {
    "ExecuteTime": {
     "end_time": "2024-04-23T14:22:51.930331Z",
     "start_time": "2024-04-23T14:22:51.918339Z"
    }
   },
   "outputs": [
    {
     "data": {
      "text/plain": [
       "'효미역 압구정'"
      ]
     },
     "execution_count": 244,
     "metadata": {},
     "output_type": "execute_result"
    }
   ],
   "source": [
    "keyword"
   ]
  },
  {
   "cell_type": "code",
   "execution_count": 246,
   "metadata": {
    "ExecuteTime": {
     "end_time": "2024-04-23T14:23:08.265090Z",
     "start_time": "2024-04-23T14:23:08.251810Z"
    }
   },
   "outputs": [
    {
     "data": {
      "text/plain": [
       "'{\"documents\":[],\"meta\":{\"is_end\":true,\"pageable_count\":0,\"same_name\":{\"keyword\":\"효미역 압구정\",\"region\":[],\"selected_region\":\"\"},\"total_count\":0}}'"
      ]
     },
     "execution_count": 246,
     "metadata": {},
     "output_type": "execute_result"
    }
   ],
   "source": [
    "response.text"
   ]
  },
  {
   "cell_type": "code",
   "execution_count": 231,
   "metadata": {
    "ExecuteTime": {
     "end_time": "2024-04-23T14:06:20.748946Z",
     "start_time": "2024-04-23T14:06:20.738096Z"
    }
   },
   "outputs": [],
   "source": [
    "df['id'] = ids"
   ]
  },
  {
   "cell_type": "code",
   "execution_count": 232,
   "metadata": {
    "ExecuteTime": {
     "end_time": "2024-04-23T14:06:23.526800Z",
     "start_time": "2024-04-23T14:06:23.499811Z"
    }
   },
   "outputs": [
    {
     "data": {
      "text/html": [
       "<div>\n",
       "<style scoped>\n",
       "    .dataframe tbody tr th:only-of-type {\n",
       "        vertical-align: middle;\n",
       "    }\n",
       "\n",
       "    .dataframe tbody tr th {\n",
       "        vertical-align: top;\n",
       "    }\n",
       "\n",
       "    .dataframe thead th {\n",
       "        text-align: right;\n",
       "    }\n",
       "</style>\n",
       "<table border=\"1\" class=\"dataframe\">\n",
       "  <thead>\n",
       "    <tr style=\"text-align: right;\">\n",
       "      <th></th>\n",
       "      <th>CGG_CODE</th>\n",
       "      <th>ASGN_YY</th>\n",
       "      <th>ASGN_SNO</th>\n",
       "      <th>APPL_YMD</th>\n",
       "      <th>ASGN_YMD</th>\n",
       "      <th>UPSO_NM</th>\n",
       "      <th>SITE_ADDR_RD</th>\n",
       "      <th>SITE_ADDR</th>\n",
       "      <th>PERM_NT_NO</th>\n",
       "      <th>SNT_UPTAE_NM</th>\n",
       "      <th>MAIN_EDF</th>\n",
       "      <th>TRDP_AREA</th>\n",
       "      <th>ADMDNG_NM</th>\n",
       "      <th>GRADE_FACIL_GBN</th>\n",
       "      <th>UPSO_SITE_TELNO</th>\n",
       "      <th>keyword</th>\n",
       "      <th>id</th>\n",
       "    </tr>\n",
       "  </thead>\n",
       "  <tbody>\n",
       "    <tr>\n",
       "      <th>0</th>\n",
       "      <td>3220000</td>\n",
       "      <td>2014</td>\n",
       "      <td>0160</td>\n",
       "      <td>20141006</td>\n",
       "      <td>20141006</td>\n",
       "      <td>이도곰탕</td>\n",
       "      <td>서울특별시 강남구 논현로94길 29-5, 지상1층,지상2층 (역삼동)</td>\n",
       "      <td>서울특별시 강남구 역삼동  671번지 17호</td>\n",
       "      <td>3220000-101-2001-24197</td>\n",
       "      <td>한식</td>\n",
       "      <td>곰탕</td>\n",
       "      <td>194.41</td>\n",
       "      <td>역삼1동</td>\n",
       "      <td>상수도전용</td>\n",
       "      <td>02 5010738</td>\n",
       "      <td>이도곰탕</td>\n",
       "      <td>[14569639]</td>\n",
       "    </tr>\n",
       "    <tr>\n",
       "      <th>1</th>\n",
       "      <td>3220000</td>\n",
       "      <td>2021</td>\n",
       "      <td>139</td>\n",
       "      <td>20181001</td>\n",
       "      <td>20211116</td>\n",
       "      <td>솥내음 스타필드 코엑스몰점</td>\n",
       "      <td>서울특별시 강남구 영동대로 513, 코엑스 지하1층 O-107호 (삼성동)</td>\n",
       "      <td>서울특별시 강남구 삼성동  159번지  코엑스</td>\n",
       "      <td>3220000-101-2020-00643</td>\n",
       "      <td>한식</td>\n",
       "      <td>직화불백</td>\n",
       "      <td>74.56</td>\n",
       "      <td>삼성1동</td>\n",
       "      <td></td>\n",
       "      <td></td>\n",
       "      <td>솥내음 스타필드 코엑스몰</td>\n",
       "      <td>[710342577]</td>\n",
       "    </tr>\n",
       "    <tr>\n",
       "      <th>2</th>\n",
       "      <td>3220000</td>\n",
       "      <td>2010</td>\n",
       "      <td>0024</td>\n",
       "      <td>20100210</td>\n",
       "      <td>20100210</td>\n",
       "      <td>스시히로바</td>\n",
       "      <td>서울특별시 강남구 삼성로 620, 블래스톤리조트 지상1층 (삼성동)</td>\n",
       "      <td>서울특별시 강남구 삼성동  70번지  블래스톤리조트</td>\n",
       "      <td>3220000-101-2002-00383</td>\n",
       "      <td>일식</td>\n",
       "      <td>초밥</td>\n",
       "      <td>216.56</td>\n",
       "      <td>삼성1동</td>\n",
       "      <td>상수도전용</td>\n",
       "      <td>02 5155511</td>\n",
       "      <td>스시히로바</td>\n",
       "      <td>[7974994, 1794437422]</td>\n",
       "    </tr>\n",
       "    <tr>\n",
       "      <th>3</th>\n",
       "      <td>3220000</td>\n",
       "      <td>2016</td>\n",
       "      <td>0089</td>\n",
       "      <td>20161125</td>\n",
       "      <td>20161125</td>\n",
       "      <td>서백자 간장게장</td>\n",
       "      <td>서울특별시 강남구 삼성로 542, 지상2층 (삼성동, 석천빌딩)</td>\n",
       "      <td>서울특별시 강남구 삼성동  151번지 4호  석천빌딩 2층</td>\n",
       "      <td>3220000-101-2012-00416</td>\n",
       "      <td>중국식</td>\n",
       "      <td>간장게장</td>\n",
       "      <td>260.30</td>\n",
       "      <td>삼성1동</td>\n",
       "      <td></td>\n",
       "      <td>02  34536008</td>\n",
       "      <td>서백자 간장게장</td>\n",
       "      <td>[24663994]</td>\n",
       "    </tr>\n",
       "    <tr>\n",
       "      <th>4</th>\n",
       "      <td>3220000</td>\n",
       "      <td>2016</td>\n",
       "      <td>0084</td>\n",
       "      <td>20161125</td>\n",
       "      <td>20161125</td>\n",
       "      <td>주)봉산집</td>\n",
       "      <td>서울특별시 강남구 삼성로 564, 지상2층,지상3층 (삼성동)</td>\n",
       "      <td>서울특별시 강남구 삼성동  145번지 19호</td>\n",
       "      <td>3220000-101-2011-01048</td>\n",
       "      <td>한식</td>\n",
       "      <td>차돌박이</td>\n",
       "      <td>452.95</td>\n",
       "      <td>삼성1동</td>\n",
       "      <td></td>\n",
       "      <td></td>\n",
       "      <td>봉산집</td>\n",
       "      <td>[15105092, 2088113318]</td>\n",
       "    </tr>\n",
       "    <tr>\n",
       "      <th>...</th>\n",
       "      <td>...</td>\n",
       "      <td>...</td>\n",
       "      <td>...</td>\n",
       "      <td>...</td>\n",
       "      <td>...</td>\n",
       "      <td>...</td>\n",
       "      <td>...</td>\n",
       "      <td>...</td>\n",
       "      <td>...</td>\n",
       "      <td>...</td>\n",
       "      <td>...</td>\n",
       "      <td>...</td>\n",
       "      <td>...</td>\n",
       "      <td>...</td>\n",
       "      <td>...</td>\n",
       "      <td>...</td>\n",
       "      <td>...</td>\n",
       "    </tr>\n",
       "    <tr>\n",
       "      <th>311</th>\n",
       "      <td>3220000</td>\n",
       "      <td>2016</td>\n",
       "      <td>7</td>\n",
       "      <td>20161125</td>\n",
       "      <td>20161125</td>\n",
       "      <td>밀란</td>\n",
       "      <td>서울특별시 강남구 개포로28길 4, (개포동,지상1층101호)</td>\n",
       "      <td>서울특별시 강남구 개포동  1215번지 0호  지상1층101호</td>\n",
       "      <td>3220000-101-2004-00840</td>\n",
       "      <td>한식</td>\n",
       "      <td>면류</td>\n",
       "      <td>128.76</td>\n",
       "      <td>개포4동</td>\n",
       "      <td>상수도전용</td>\n",
       "      <td>02  574 3216</td>\n",
       "      <td>밀란</td>\n",
       "      <td>[9011542, 25702443]</td>\n",
       "    </tr>\n",
       "    <tr>\n",
       "      <th>312</th>\n",
       "      <td>3220000</td>\n",
       "      <td>2023</td>\n",
       "      <td>313</td>\n",
       "      <td>20231010</td>\n",
       "      <td>20231123</td>\n",
       "      <td>모스가든</td>\n",
       "      <td>서울특별시 강남구 논현로139길 12, 지상1층 (논현동)</td>\n",
       "      <td>서울특별시 강남구 논현동  30번지 6호</td>\n",
       "      <td>3220000-101-2012-00814</td>\n",
       "      <td>한식</td>\n",
       "      <td>파스타</td>\n",
       "      <td>332.00</td>\n",
       "      <td>논현1동</td>\n",
       "      <td></td>\n",
       "      <td></td>\n",
       "      <td>모스가든</td>\n",
       "      <td>[540731064]</td>\n",
       "    </tr>\n",
       "    <tr>\n",
       "      <th>313</th>\n",
       "      <td>3220000</td>\n",
       "      <td>2010</td>\n",
       "      <td>0058</td>\n",
       "      <td>20100210</td>\n",
       "      <td>20100210</td>\n",
       "      <td>삼성물산(주)10꼬르소꼬모서울카페</td>\n",
       "      <td>서울특별시 강남구 압구정로 416, (청담동,지하1층)</td>\n",
       "      <td>서울특별시 강남구 청담동  79번지 0호  지하1층</td>\n",
       "      <td>3220000-101-2008-00093</td>\n",
       "      <td>경양식</td>\n",
       "      <td>이태리</td>\n",
       "      <td>350.00</td>\n",
       "      <td>청담동</td>\n",
       "      <td>상수도전용</td>\n",
       "      <td>02  30181010</td>\n",
       "      <td>10꼬르소꼬모서울카페</td>\n",
       "      <td>[22400767]</td>\n",
       "    </tr>\n",
       "    <tr>\n",
       "      <th>314</th>\n",
       "      <td>3220000</td>\n",
       "      <td>2023</td>\n",
       "      <td>299</td>\n",
       "      <td>20231010</td>\n",
       "      <td>20231123</td>\n",
       "      <td>현대낙지집</td>\n",
       "      <td>서울특별시 강남구 압구정로14길 11, (신사동)</td>\n",
       "      <td>서울특별시 강남구 신사동  550번지 3호</td>\n",
       "      <td>3220000-101-1985-17501</td>\n",
       "      <td>한식</td>\n",
       "      <td>낙지, 감자탕</td>\n",
       "      <td>92.03</td>\n",
       "      <td>신사동</td>\n",
       "      <td>상수도전용</td>\n",
       "      <td>02 5461022</td>\n",
       "      <td>현대낙지집</td>\n",
       "      <td>[8148270]</td>\n",
       "    </tr>\n",
       "    <tr>\n",
       "      <th>315</th>\n",
       "      <td>3220000</td>\n",
       "      <td>2010</td>\n",
       "      <td>0061</td>\n",
       "      <td>20100730</td>\n",
       "      <td>20100915</td>\n",
       "      <td>초심</td>\n",
       "      <td>서울특별시 강남구 언주로172길 55, 지상2층 (신사동)</td>\n",
       "      <td>서울특별시 강남구 신사동  662번지 6호</td>\n",
       "      <td>3220000-101-2005-00412</td>\n",
       "      <td>경양식</td>\n",
       "      <td>곱창, 부대찌개</td>\n",
       "      <td>211.26</td>\n",
       "      <td>신사동</td>\n",
       "      <td>상수도전용</td>\n",
       "      <td>02 5174433</td>\n",
       "      <td>초심</td>\n",
       "      <td>None</td>\n",
       "    </tr>\n",
       "  </tbody>\n",
       "</table>\n",
       "<p>316 rows × 17 columns</p>\n",
       "</div>"
      ],
      "text/plain": [
       "    CGG_CODE ASGN_YY ASGN_SNO  APPL_YMD  ASGN_YMD             UPSO_NM  \\\n",
       "0    3220000    2014     0160  20141006  20141006                이도곰탕   \n",
       "1    3220000    2021     139   20181001  20211116      솥내음 스타필드 코엑스몰점   \n",
       "2    3220000    2010     0024  20100210  20100210               스시히로바   \n",
       "3    3220000    2016     0089  20161125  20161125            서백자 간장게장   \n",
       "4    3220000    2016     0084  20161125  20161125               주)봉산집   \n",
       "..       ...     ...      ...       ...       ...                 ...   \n",
       "311  3220000    2016     7     20161125  20161125                  밀란   \n",
       "312  3220000    2023     313   20231010  20231123                모스가든   \n",
       "313  3220000    2010     0058  20100210  20100210  삼성물산(주)10꼬르소꼬모서울카페   \n",
       "314  3220000    2023     299   20231010  20231123               현대낙지집   \n",
       "315  3220000    2010     0061  20100730  20100915                  초심   \n",
       "\n",
       "                                  SITE_ADDR_RD  \\\n",
       "0       서울특별시 강남구 논현로94길 29-5, 지상1층,지상2층 (역삼동)   \n",
       "1    서울특별시 강남구 영동대로 513, 코엑스 지하1층 O-107호 (삼성동)   \n",
       "2        서울특별시 강남구 삼성로 620, 블래스톤리조트 지상1층 (삼성동)   \n",
       "3          서울특별시 강남구 삼성로 542, 지상2층 (삼성동, 석천빌딩)   \n",
       "4           서울특별시 강남구 삼성로 564, 지상2층,지상3층 (삼성동)   \n",
       "..                                         ...   \n",
       "311         서울특별시 강남구 개포로28길 4, (개포동,지상1층101호)   \n",
       "312           서울특별시 강남구 논현로139길 12, 지상1층 (논현동)   \n",
       "313             서울특별시 강남구 압구정로 416, (청담동,지하1층)   \n",
       "314                서울특별시 강남구 압구정로14길 11, (신사동)   \n",
       "315           서울특별시 강남구 언주로172길 55, 지상2층 (신사동)   \n",
       "\n",
       "                              SITE_ADDR              PERM_NT_NO SNT_UPTAE_NM  \\\n",
       "0            서울특별시 강남구 역삼동  671번지 17호    3220000-101-2001-24197           한식   \n",
       "1             서울특별시 강남구 삼성동  159번지  코엑스  3220000-101-2020-00643           한식   \n",
       "2          서울특별시 강남구 삼성동  70번지  블래스톤리조트  3220000-101-2002-00383           일식   \n",
       "3      서울특별시 강남구 삼성동  151번지 4호  석천빌딩 2층  3220000-101-2012-00416          중국식   \n",
       "4            서울특별시 강남구 삼성동  145번지 19호    3220000-101-2011-01048           한식   \n",
       "..                                  ...                     ...          ...   \n",
       "311  서울특별시 강남구 개포동  1215번지 0호  지상1층101호  3220000-101-2004-00840           한식   \n",
       "312            서울특별시 강남구 논현동  30번지 6호    3220000-101-2012-00814           한식   \n",
       "313        서울특별시 강남구 청담동  79번지 0호  지하1층  3220000-101-2008-00093          경양식   \n",
       "314           서울특별시 강남구 신사동  550번지 3호    3220000-101-1985-17501           한식   \n",
       "315           서울특별시 강남구 신사동  662번지 6호    3220000-101-2005-00412          경양식   \n",
       "\n",
       "     MAIN_EDF  TRDP_AREA ADMDNG_NM GRADE_FACIL_GBN UPSO_SITE_TELNO  \\\n",
       "0          곰탕     194.41      역삼1동           상수도전용      02 5010738   \n",
       "1        직화불백      74.56      삼성1동                                   \n",
       "2          초밥     216.56      삼성1동           상수도전용      02 5155511   \n",
       "3        간장게장     260.30      삼성1동                    02  34536008   \n",
       "4        차돌박이     452.95      삼성1동                                   \n",
       "..        ...        ...       ...             ...             ...   \n",
       "311        면류     128.76      개포4동           상수도전용    02  574 3216   \n",
       "312       파스타     332.00      논현1동                                   \n",
       "313       이태리     350.00       청담동           상수도전용    02  30181010   \n",
       "314   낙지, 감자탕      92.03       신사동           상수도전용      02 5461022   \n",
       "315  곱창, 부대찌개     211.26       신사동           상수도전용      02 5174433   \n",
       "\n",
       "           keyword                      id  \n",
       "0             이도곰탕              [14569639]  \n",
       "1    솥내음 스타필드 코엑스몰             [710342577]  \n",
       "2            스시히로바   [7974994, 1794437422]  \n",
       "3         서백자 간장게장              [24663994]  \n",
       "4              봉산집  [15105092, 2088113318]  \n",
       "..             ...                     ...  \n",
       "311             밀란     [9011542, 25702443]  \n",
       "312           모스가든             [540731064]  \n",
       "313    10꼬르소꼬모서울카페              [22400767]  \n",
       "314          현대낙지집               [8148270]  \n",
       "315             초심                    None  \n",
       "\n",
       "[316 rows x 17 columns]"
      ]
     },
     "execution_count": 232,
     "metadata": {},
     "output_type": "execute_result"
    }
   ],
   "source": [
    "df"
   ]
  },
  {
   "cell_type": "code",
   "execution_count": 226,
   "metadata": {
    "ExecuteTime": {
     "end_time": "2024-04-23T14:04:59.968334Z",
     "start_time": "2024-04-23T14:04:59.806900Z"
    }
   },
   "outputs": [],
   "source": [
    "df.to_excel('result_v2.xlsx')"
   ]
  },
  {
   "cell_type": "code",
   "execution_count": 233,
   "metadata": {
    "ExecuteTime": {
     "end_time": "2024-04-23T14:06:28.759098Z",
     "start_time": "2024-04-23T14:06:28.741708Z"
    }
   },
   "outputs": [
    {
     "data": {
      "text/plain": [
       "0                  [14569639]\n",
       "1                 [710342577]\n",
       "2       [7974994, 1794437422]\n",
       "3                  [24663994]\n",
       "4      [15105092, 2088113318]\n",
       "                ...          \n",
       "311       [9011542, 25702443]\n",
       "312               [540731064]\n",
       "313                [22400767]\n",
       "314                 [8148270]\n",
       "315                      None\n",
       "Name: id, Length: 316, dtype: object"
      ]
     },
     "execution_count": 233,
     "metadata": {},
     "output_type": "execute_result"
    }
   ],
   "source": [
    "df['id']"
   ]
  },
  {
   "cell_type": "code",
   "execution_count": 234,
   "metadata": {
    "ExecuteTime": {
     "end_time": "2024-04-23T14:06:30.577701Z",
     "start_time": "2024-04-23T14:06:30.559646Z"
    }
   },
   "outputs": [
    {
     "data": {
      "text/plain": [
       "CGG_CODE            0\n",
       "ASGN_YY             0\n",
       "ASGN_SNO            0\n",
       "APPL_YMD            0\n",
       "ASGN_YMD            0\n",
       "UPSO_NM             0\n",
       "SITE_ADDR_RD        0\n",
       "SITE_ADDR           0\n",
       "PERM_NT_NO          0\n",
       "SNT_UPTAE_NM        0\n",
       "MAIN_EDF            0\n",
       "TRDP_AREA           0\n",
       "ADMDNG_NM           0\n",
       "GRADE_FACIL_GBN     0\n",
       "UPSO_SITE_TELNO     0\n",
       "keyword             0\n",
       "id                 72\n",
       "dtype: int64"
      ]
     },
     "execution_count": 234,
     "metadata": {},
     "output_type": "execute_result"
    }
   ],
   "source": [
    "df.isna().sum()"
   ]
  },
  {
   "cell_type": "code",
   "execution_count": 171,
   "metadata": {
    "ExecuteTime": {
     "end_time": "2024-04-23T13:23:12.883107Z",
     "start_time": "2024-04-23T13:23:12.851760Z"
    }
   },
   "outputs": [
    {
     "data": {
      "text/html": [
       "<div>\n",
       "<style scoped>\n",
       "    .dataframe tbody tr th:only-of-type {\n",
       "        vertical-align: middle;\n",
       "    }\n",
       "\n",
       "    .dataframe tbody tr th {\n",
       "        vertical-align: top;\n",
       "    }\n",
       "\n",
       "    .dataframe thead th {\n",
       "        text-align: right;\n",
       "    }\n",
       "</style>\n",
       "<table border=\"1\" class=\"dataframe\">\n",
       "  <thead>\n",
       "    <tr style=\"text-align: right;\">\n",
       "      <th></th>\n",
       "      <th>UPSO_NM</th>\n",
       "      <th>id</th>\n",
       "    </tr>\n",
       "  </thead>\n",
       "  <tbody>\n",
       "    <tr>\n",
       "      <th>5</th>\n",
       "      <td>더드림</td>\n",
       "      <td>0.0</td>\n",
       "    </tr>\n",
       "    <tr>\n",
       "      <th>6</th>\n",
       "      <td>국민한우집 삼성역점(구 칠프로칠백식당 포스코점)</td>\n",
       "      <td>0.0</td>\n",
       "    </tr>\n",
       "    <tr>\n",
       "      <th>9</th>\n",
       "      <td>등대</td>\n",
       "      <td>0.0</td>\n",
       "    </tr>\n",
       "    <tr>\n",
       "      <th>10</th>\n",
       "      <td>(주)아구본가첨벙대치</td>\n",
       "      <td>0.0</td>\n",
       "    </tr>\n",
       "    <tr>\n",
       "      <th>13</th>\n",
       "      <td>경성면옥</td>\n",
       "      <td>0.0</td>\n",
       "    </tr>\n",
       "    <tr>\n",
       "      <th>...</th>\n",
       "      <td>...</td>\n",
       "      <td>...</td>\n",
       "    </tr>\n",
       "    <tr>\n",
       "      <th>297</th>\n",
       "      <td>로즈힐 강남파이낸스센터점</td>\n",
       "      <td>0.0</td>\n",
       "    </tr>\n",
       "    <tr>\n",
       "      <th>303</th>\n",
       "      <td>한쉐프</td>\n",
       "      <td>0.0</td>\n",
       "    </tr>\n",
       "    <tr>\n",
       "      <th>304</th>\n",
       "      <td>지강한식당 압구정본점</td>\n",
       "      <td>0.0</td>\n",
       "    </tr>\n",
       "    <tr>\n",
       "      <th>309</th>\n",
       "      <td>효미역 압구정점</td>\n",
       "      <td>0.0</td>\n",
       "    </tr>\n",
       "    <tr>\n",
       "      <th>315</th>\n",
       "      <td>초심</td>\n",
       "      <td>0.0</td>\n",
       "    </tr>\n",
       "  </tbody>\n",
       "</table>\n",
       "<p>72 rows × 2 columns</p>\n",
       "</div>"
      ],
      "text/plain": [
       "                        UPSO_NM   id\n",
       "5                           더드림  0.0\n",
       "6    국민한우집 삼성역점(구 칠프로칠백식당 포스코점)  0.0\n",
       "9                            등대  0.0\n",
       "10                  (주)아구본가첨벙대치  0.0\n",
       "13                         경성면옥  0.0\n",
       "..                          ...  ...\n",
       "297               로즈힐 강남파이낸스센터점  0.0\n",
       "303                         한쉐프  0.0\n",
       "304                 지강한식당 압구정본점  0.0\n",
       "309                    효미역 압구정점  0.0\n",
       "315                          초심  0.0\n",
       "\n",
       "[72 rows x 2 columns]"
      ]
     },
     "execution_count": 171,
     "metadata": {},
     "output_type": "execute_result"
    }
   ],
   "source": [
    "check_df = pd.merge(\n",
    "    left=df,\n",
    "    right=kakao_df.groupby('검색어',as_index=False).agg({'id': 'count'}),\n",
    "    left_on='keyword',\n",
    "    right_on='검색어',\n",
    "    how='left'\n",
    ")[['UPSO_NM', 'id']].fillna(0)\n",
    "\n",
    "check_df[check_df['id'] == 0]"
   ]
  },
  {
   "cell_type": "code",
   "execution_count": 199,
   "metadata": {
    "ExecuteTime": {
     "end_time": "2024-04-23T13:37:29.903803Z",
     "start_time": "2024-04-23T13:37:29.889715Z"
    }
   },
   "outputs": [
    {
     "data": {
      "text/plain": [
       "array(['FD6', 'PK6', 'HP8', 'OL7', '', 'MT1', 'CE7', 'AT4', 'CS2', 'SC4',\n",
       "       'AD5', 'AG2', 'PM9', 'AC5', 'CT1', 'PO3', 'BK9', 'SW8'],\n",
       "      dtype=object)"
      ]
     },
     "execution_count": 199,
     "metadata": {},
     "output_type": "execute_result"
    }
   ],
   "source": [
    "pd.DataFrame(rows)['category_group_code'].unique()"
   ]
  },
  {
   "cell_type": "code",
   "execution_count": 235,
   "metadata": {
    "ExecuteTime": {
     "end_time": "2024-04-23T14:09:34.260158Z",
     "start_time": "2024-04-23T14:09:34.252874Z"
    }
   },
   "outputs": [
    {
     "data": {
      "text/plain": [
       "{'address_name': '전남 목포시 산정동 1080-94',\n",
       " 'category_group_code': 'FD6',\n",
       " 'category_group_name': '음식점',\n",
       " 'category_name': '음식점 > 한식 > 해물,생선 > 회',\n",
       " 'distance': '',\n",
       " 'id': '455543364',\n",
       " 'phone': '010-3558-4864',\n",
       " 'place_name': '초심회포차',\n",
       " 'place_url': 'http://place.map.kakao.com/455543364',\n",
       " 'road_address_name': '전남 목포시 자유로 50',\n",
       " 'x': '126.394989487882',\n",
       " 'y': '34.7932867417196'}"
      ]
     },
     "execution_count": 235,
     "metadata": {},
     "output_type": "execute_result"
    }
   ],
   "source": [
    "row"
   ]
  }
 ],
 "metadata": {
  "kernelspec": {
   "display_name": "Python 3 (ipykernel)",
   "language": "python",
   "name": "python3"
  },
  "language_info": {
   "codemirror_mode": {
    "name": "ipython",
    "version": 3
   },
   "file_extension": ".py",
   "mimetype": "text/x-python",
   "name": "python",
   "nbconvert_exporter": "python",
   "pygments_lexer": "ipython3",
   "version": "3.9.16"
  },
  "toc": {
   "base_numbering": 1,
   "nav_menu": {},
   "number_sections": false,
   "sideBar": true,
   "skip_h1_title": false,
   "title_cell": "Table of Contents",
   "title_sidebar": "Contents",
   "toc_cell": false,
   "toc_position": {},
   "toc_section_display": true,
   "toc_window_display": false
  }
 },
 "nbformat": 4,
 "nbformat_minor": 2
}
